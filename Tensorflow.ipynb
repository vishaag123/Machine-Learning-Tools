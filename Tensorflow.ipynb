{
 "cells": [
  {
   "cell_type": "code",
   "execution_count": 2,
   "metadata": {},
   "outputs": [],
   "source": [
    "import tensorflow as tf"
   ]
  },
  {
   "cell_type": "code",
   "execution_count": 17,
   "metadata": {},
   "outputs": [
    {
     "name": "stdout",
     "output_type": "stream",
     "text": [
      "tf.Tensor([10. 20. 30. 40. 50. 60. 70. 80. 90.], shape=(9,), dtype=float32)\n"
     ]
    }
   ],
   "source": [
    "# Intiatization of tensor\n",
    "\n",
    "x=tf.constant([4],shape=(2,3), dtype=tf.int32)\n",
    "x=tf.constant([[1,2,3],[3,4,5]])\n",
    "\n",
    "x=tf.ones((3,2))\n",
    "x=tf.zeros((2,3))\n",
    "x=tf.eye(2)\n",
    "x=tf.random.normal((3,3))\n",
    "x=tf.random.uniform((3,3))\n",
    "x=tf.range(start=10, limit=100, delta=10)\n",
    "x=tf.cast(x,dtype=tf.float32)\n",
    "\n",
    "print(x)"
   ]
  },
  {
   "cell_type": "raw",
   "metadata": {},
   "source": [
    "Mathematical Operations"
   ]
  },
  {
   "cell_type": "code",
   "execution_count": 59,
   "metadata": {},
   "outputs": [
    {
     "name": "stdout",
     "output_type": "stream",
     "text": [
      "tf.Tensor(\n",
      "[[18. 18.]\n",
      " [18. 18.]], shape=(2, 2), dtype=float32)\n",
      "tf.Tensor([0 1 2 3], shape=(4,), dtype=int32)\n",
      "tf.Tensor([2 6], shape=(2,), dtype=int32)\n",
      "tf.Tensor(\n",
      "[[0 1 2]\n",
      " [3 4 5]\n",
      " [6 7 8]], shape=(3, 3), dtype=int32)\n",
      "tf.Tensor(\n",
      "[[0 3 6]\n",
      " [1 4 7]\n",
      " [2 5 8]], shape=(3, 3), dtype=int32)\n"
     ]
    }
   ],
   "source": [
    "x=tf.constant([1,2,3])\n",
    "y=tf.constant([9,8,7])\n",
    "\n",
    "z=tf.add(x,y)\n",
    "z=x+y\n",
    "\n",
    "z-tf.subtract(x,y)\n",
    "z=x-y\n",
    "\n",
    "z=tf.divide(x,y)\n",
    "z=x/y\n",
    "\n",
    "z=tf.multiply(x,y)\n",
    "z=x*y\n",
    "\n",
    "z=tf.tensordot(x,y,axes=0)\n",
    "z=tf.reduce_sum(x*y,axis=0)\n",
    "\n",
    "x=tf.ones((2,3))*2\n",
    "y=tf.ones((3,2))*3\n",
    "\n",
    "z=tf.matmul(x,y)\n",
    "print(z)\n",
    "\n",
    "z=tf.tensordot(x,y,axes=0)\n",
    "# print(x,y)\n",
    "# print(z)\n",
    "\n",
    "# INdexing\n",
    "x=tf.constant([0,1,2,3,4,5,6,7])\n",
    "indices=tf.gather(x,x[:4])\n",
    "print(indices)\n",
    "\n",
    "x=tf.constant([[2,3],\n",
    "              [4,5],\n",
    "              [6,8]])\n",
    "\n",
    "print(x[0:3:2,0])\n",
    "\n",
    "## reshaping\n",
    "\n",
    "x=tf.range(9)\n",
    "x=tf.reshape(x,(3,3))\n",
    "print(x)\n",
    "\n",
    "x=tf.transpose(x)\n",
    "print(x)"
   ]
  },
  {
   "cell_type": "code",
   "execution_count": 1,
   "metadata": {},
   "outputs": [
    {
     "name": "stdout",
     "output_type": "stream",
     "text": [
      "tf.Tensor([4 5 6], shape=(3,), dtype=int32)\n",
      "tf.Tensor([3 6], shape=(2,), dtype=int32)\n"
     ]
    }
   ],
   "source": [
    "import tensorflow as tf\n",
    "\n",
    "tensor = tf.constant([[1, 2, 3], [4, 5, 6]])\n",
    "\n",
    "# Maximum value along each column (axis=0)\n",
    "max_values_along_columns = tf.math.reduce_max(tensor, axis=0)\n",
    "print(max_values_along_columns)  # Output: [4 5 6]\n",
    "\n",
    "# Maximum value along each row (axis=1)\n",
    "max_values_along_rows = tf.math.reduce_max(tensor, axis=1)\n",
    "print(max_values_along_rows)  # Output: [3 6]\n"
   ]
  },
  {
   "cell_type": "code",
   "execution_count": 2,
   "metadata": {},
   "outputs": [
    {
     "name": "stdout",
     "output_type": "stream",
     "text": [
      "tf.Tensor([False False False False  True], shape=(5,), dtype=bool)\n"
     ]
    }
   ],
   "source": [
    "p=tf.constant([2,3,4,5,6])\n",
    "print(p>5)"
   ]
  },
  {
   "cell_type": "code",
   "execution_count": 4,
   "metadata": {},
   "outputs": [
    {
     "name": "stdout",
     "output_type": "stream",
     "text": [
      "tf.Tensor(\n",
      "[[[-0.04140493  0.4115787   0.4322567  -0.2753911 ]\n",
      "  [ 0.8647774   0.5185812  -0.15937434  0.831804  ]\n",
      "  [-2.5820794   0.2711955  -0.5291506  -0.07123774]]\n",
      "\n",
      " [[-0.34853476 -1.2821816   1.0556811   0.28297794]\n",
      "  [ 0.36705038 -0.51085883  1.158644   -0.2451036 ]\n",
      "  [-0.98983663  0.25683382 -0.82478267 -0.55983067]]], shape=(2, 3, 4), dtype=float32)\n",
      "tf.Tensor(\n",
      "[[[False False False False]\n",
      "  [False False False False]\n",
      "  [False False False False]]\n",
      "\n",
      " [[False False False False]\n",
      "  [False False False False]\n",
      "  [False False False False]]], shape=(2, 3, 4), dtype=bool)\n"
     ]
    }
   ],
   "source": [
    "p=tf.random.normal(shape=(2,3,4))\n",
    "print(p)\n",
    "print(p>5)"
   ]
  },
  {
   "cell_type": "code",
   "execution_count": 7,
   "metadata": {},
   "outputs": [
    {
     "name": "stdout",
     "output_type": "stream",
     "text": [
      "tf.Tensor(\n",
      "[[[ 0.8762568  -0.578346   -0.3336025   0.16450328  0.24662782]\n",
      "  [-0.32351804  0.6116744  -0.82204205  0.5106907   0.7385134 ]\n",
      "  [-0.6165734  -0.0360646   0.4260435   1.5378385  -0.04289336]\n",
      "  [ 1.4695467   0.13394377 -0.3366936  -1.1957442   0.9428554 ]]\n",
      "\n",
      " [[-0.60635877  0.63954353  0.01600436 -0.10319051 -1.9700714 ]\n",
      "  [ 1.1308284   2.3599513  -0.80270904  2.008391    1.6955391 ]\n",
      "  [-1.6994324   0.26288822  2.2430334  -0.03062435  0.5489859 ]\n",
      "  [ 2.1792257   1.1641186   0.22845104  1.5331235  -0.61935514]]\n",
      "\n",
      " [[ 1.8448001   1.7618515  -0.78562874 -0.6734656  -1.1837806 ]\n",
      "  [ 2.922366   -0.04045252  0.42720655  0.9941797  -1.4557817 ]\n",
      "  [ 0.13343038 -1.284039   -0.5601984  -0.32424423  3.2818105 ]\n",
      "  [ 1.0731927  -0.5552292   0.8340205   1.5963858   3.238045  ]]], shape=(3, 4, 5), dtype=float32)\n"
     ]
    },
    {
     "ename": "InvalidArgumentError",
     "evalue": "{{function_node __wrapped__Reshape_device_/job:localhost/replica:0/task:0/device:CPU:0}} Input to reshape is a tensor with 1 values, but the requested shape has 5 [Op:Reshape] name: ",
     "output_type": "error",
     "traceback": [
      "\u001b[1;31m---------------------------------------------------------------------------\u001b[0m",
      "\u001b[1;31mInvalidArgumentError\u001b[0m                      Traceback (most recent call last)",
      "\u001b[1;32m<ipython-input-7-554ba10ad467>\u001b[0m in \u001b[0;36m<module>\u001b[1;34m\u001b[0m\n\u001b[0;32m      3\u001b[0m \u001b[1;33m\u001b[0m\u001b[0m\n\u001b[0;32m      4\u001b[0m \u001b[0mb\u001b[0m\u001b[1;33m=\u001b[0m\u001b[0mtf\u001b[0m\u001b[1;33m.\u001b[0m\u001b[0mreshape\u001b[0m\u001b[1;33m(\u001b[0m\u001b[0ma\u001b[0m\u001b[1;33m,\u001b[0m\u001b[0mshape\u001b[0m\u001b[1;33m=\u001b[0m\u001b[1;33m[\u001b[0m\u001b[1;36m5\u001b[0m\u001b[1;33m,\u001b[0m\u001b[1;33m-\u001b[0m\u001b[1;36m1\u001b[0m\u001b[1;33m]\u001b[0m\u001b[1;33m)\u001b[0m\u001b[1;33m\u001b[0m\u001b[1;33m\u001b[0m\u001b[0m\n\u001b[1;32m----> 5\u001b[1;33m \u001b[0mc\u001b[0m\u001b[1;33m=\u001b[0m\u001b[0mtf\u001b[0m\u001b[1;33m.\u001b[0m\u001b[0mtranspose\u001b[0m\u001b[1;33m(\u001b[0m\u001b[0mtf\u001b[0m\u001b[1;33m.\u001b[0m\u001b[0mreshape\u001b[0m\u001b[1;33m(\u001b[0m\u001b[1;33m-\u001b[0m\u001b[1;36m1\u001b[0m\u001b[1;33m,\u001b[0m\u001b[1;36m5\u001b[0m\u001b[1;33m)\u001b[0m\u001b[1;33m)\u001b[0m\u001b[1;33m\u001b[0m\u001b[1;33m\u001b[0m\u001b[0m\n\u001b[0m\u001b[0;32m      6\u001b[0m \u001b[0mprint\u001b[0m\u001b[1;33m(\u001b[0m\u001b[0mb\u001b[0m\u001b[1;33m==\u001b[0m\u001b[0mc\u001b[0m\u001b[1;33m)\u001b[0m\u001b[1;33m\u001b[0m\u001b[1;33m\u001b[0m\u001b[0m\n",
      "\u001b[1;32m~\\anaconda3\\lib\\site-packages\\tensorflow\\python\\util\\traceback_utils.py\u001b[0m in \u001b[0;36merror_handler\u001b[1;34m(*args, **kwargs)\u001b[0m\n\u001b[0;32m    151\u001b[0m     \u001b[1;32mexcept\u001b[0m \u001b[0mException\u001b[0m \u001b[1;32mas\u001b[0m \u001b[0me\u001b[0m\u001b[1;33m:\u001b[0m\u001b[1;33m\u001b[0m\u001b[1;33m\u001b[0m\u001b[0m\n\u001b[0;32m    152\u001b[0m       \u001b[0mfiltered_tb\u001b[0m \u001b[1;33m=\u001b[0m \u001b[0m_process_traceback_frames\u001b[0m\u001b[1;33m(\u001b[0m\u001b[0me\u001b[0m\u001b[1;33m.\u001b[0m\u001b[0m__traceback__\u001b[0m\u001b[1;33m)\u001b[0m\u001b[1;33m\u001b[0m\u001b[1;33m\u001b[0m\u001b[0m\n\u001b[1;32m--> 153\u001b[1;33m       \u001b[1;32mraise\u001b[0m \u001b[0me\u001b[0m\u001b[1;33m.\u001b[0m\u001b[0mwith_traceback\u001b[0m\u001b[1;33m(\u001b[0m\u001b[0mfiltered_tb\u001b[0m\u001b[1;33m)\u001b[0m \u001b[1;32mfrom\u001b[0m \u001b[1;32mNone\u001b[0m\u001b[1;33m\u001b[0m\u001b[1;33m\u001b[0m\u001b[0m\n\u001b[0m\u001b[0;32m    154\u001b[0m     \u001b[1;32mfinally\u001b[0m\u001b[1;33m:\u001b[0m\u001b[1;33m\u001b[0m\u001b[1;33m\u001b[0m\u001b[0m\n\u001b[0;32m    155\u001b[0m       \u001b[1;32mdel\u001b[0m \u001b[0mfiltered_tb\u001b[0m\u001b[1;33m\u001b[0m\u001b[1;33m\u001b[0m\u001b[0m\n",
      "\u001b[1;32m~\\anaconda3\\lib\\site-packages\\tensorflow\\python\\framework\\ops.py\u001b[0m in \u001b[0;36mraise_from_not_ok_status\u001b[1;34m(e, name)\u001b[0m\n\u001b[0;32m   6654\u001b[0m \u001b[1;32mdef\u001b[0m \u001b[0mraise_from_not_ok_status\u001b[0m\u001b[1;33m(\u001b[0m\u001b[0me\u001b[0m\u001b[1;33m,\u001b[0m \u001b[0mname\u001b[0m\u001b[1;33m)\u001b[0m\u001b[1;33m:\u001b[0m\u001b[1;33m\u001b[0m\u001b[1;33m\u001b[0m\u001b[0m\n\u001b[0;32m   6655\u001b[0m   \u001b[0me\u001b[0m\u001b[1;33m.\u001b[0m\u001b[0mmessage\u001b[0m \u001b[1;33m+=\u001b[0m \u001b[1;33m(\u001b[0m\u001b[1;34m\" name: \"\u001b[0m \u001b[1;33m+\u001b[0m \u001b[0mstr\u001b[0m\u001b[1;33m(\u001b[0m\u001b[0mname\u001b[0m \u001b[1;32mif\u001b[0m \u001b[0mname\u001b[0m \u001b[1;32mis\u001b[0m \u001b[1;32mnot\u001b[0m \u001b[1;32mNone\u001b[0m \u001b[1;32melse\u001b[0m \u001b[1;34m\"\"\u001b[0m\u001b[1;33m)\u001b[0m\u001b[1;33m)\u001b[0m\u001b[1;33m\u001b[0m\u001b[1;33m\u001b[0m\u001b[0m\n\u001b[1;32m-> 6656\u001b[1;33m   \u001b[1;32mraise\u001b[0m \u001b[0mcore\u001b[0m\u001b[1;33m.\u001b[0m\u001b[0m_status_to_exception\u001b[0m\u001b[1;33m(\u001b[0m\u001b[0me\u001b[0m\u001b[1;33m)\u001b[0m \u001b[1;32mfrom\u001b[0m \u001b[1;32mNone\u001b[0m  \u001b[1;31m# pylint: disable=protected-access\u001b[0m\u001b[1;33m\u001b[0m\u001b[1;33m\u001b[0m\u001b[0m\n\u001b[0m\u001b[0;32m   6657\u001b[0m \u001b[1;33m\u001b[0m\u001b[0m\n\u001b[0;32m   6658\u001b[0m \u001b[1;33m\u001b[0m\u001b[0m\n",
      "\u001b[1;31mInvalidArgumentError\u001b[0m: {{function_node __wrapped__Reshape_device_/job:localhost/replica:0/task:0/device:CPU:0}} Input to reshape is a tensor with 1 values, but the requested shape has 5 [Op:Reshape] name: "
     ]
    }
   ],
   "source": [
    "a=tf.random.normal(shape=(3,4,5))\n",
    "print(a)\n",
    "\n",
    "b=tf.reshape(a,shape=[5,-1])\n",
    "c=tf.transpose(tf.reshape(-1,5))\n",
    "print(b==c)"
   ]
  },
  {
   "cell_type": "code",
   "execution_count": null,
   "metadata": {},
   "outputs": [],
   "source": []
  }
 ],
 "metadata": {
  "kernelspec": {
   "display_name": "Python 3",
   "language": "python",
   "name": "python3"
  },
  "language_info": {
   "codemirror_mode": {
    "name": "ipython",
    "version": 3
   },
   "file_extension": ".py",
   "mimetype": "text/x-python",
   "name": "python",
   "nbconvert_exporter": "python",
   "pygments_lexer": "ipython3",
   "version": "3.8.5"
  }
 },
 "nbformat": 4,
 "nbformat_minor": 4
}
