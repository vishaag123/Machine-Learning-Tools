{
 "cells": [
  {
   "cell_type": "code",
   "execution_count": 1,
   "metadata": {},
   "outputs": [],
   "source": [
    "import pandas as pd"
   ]
  },
  {
   "cell_type": "code",
   "execution_count": 2,
   "metadata": {},
   "outputs": [
    {
     "name": "stderr",
     "output_type": "stream",
     "text": [
      "C:\\Users\\visha\\anaconda3\\lib\\site-packages\\IPython\\core\\interactiveshell.py:3185: DtypeWarning: Columns (13,39,40,41) have mixed types.Specify dtype option on import or set low_memory=False.\n",
      "  has_raised = await self.run_ast_nodes(code_ast.body, cell_name,\n"
     ]
    },
    {
     "name": "stdout",
     "output_type": "stream",
     "text": [
      "   SalesID  SalePrice  MachineID  ModelID  datasource  auctioneerID  YearMade  \\\n",
      "0  1139246      66000     999089     3157         121           3.0      2004   \n",
      "1  1139248      57000     117657       77         121           3.0      1996   \n",
      "2  1139249      10000     434808     7009         121           3.0      2001   \n",
      "3  1139251      38500    1026470      332         121           3.0      2001   \n",
      "4  1139253      11000    1057373    17311         121           3.0      2007   \n",
      "\n",
      "   MachineHoursCurrentMeter UsageBand         saledate  ...  \\\n",
      "0                      68.0       Low  11/16/2006 0:00  ...   \n",
      "1                    4640.0       Low   3/26/2004 0:00  ...   \n",
      "2                    2838.0      High   2/26/2004 0:00  ...   \n",
      "3                    3486.0      High   5/19/2011 0:00  ...   \n",
      "4                     722.0    Medium   7/23/2009 0:00  ...   \n",
      "\n",
      "  Undercarriage_Pad_Width Stick_Length Thumb Pattern_Changer Grouser_Type  \\\n",
      "0                     NaN          NaN   NaN             NaN          NaN   \n",
      "1                     NaN          NaN   NaN             NaN          NaN   \n",
      "2                     NaN          NaN   NaN             NaN          NaN   \n",
      "3                     NaN          NaN   NaN             NaN          NaN   \n",
      "4                     NaN          NaN   NaN             NaN          NaN   \n",
      "\n",
      "  Backhoe_Mounting Blade_Type Travel_Controls Differential_Type  \\\n",
      "0              NaN        NaN             NaN          Standard   \n",
      "1              NaN        NaN             NaN          Standard   \n",
      "2              NaN        NaN             NaN               NaN   \n",
      "3              NaN        NaN             NaN               NaN   \n",
      "4              NaN        NaN             NaN               NaN   \n",
      "\n",
      "  Steering_Controls  \n",
      "0      Conventional  \n",
      "1      Conventional  \n",
      "2               NaN  \n",
      "3               NaN  \n",
      "4               NaN  \n",
      "\n",
      "[5 rows x 53 columns]\n"
     ]
    }
   ],
   "source": [
    "train_data=pd.read_csv(r\"C:\\Users\\visha\\first_ML_Course\\Dataset\\Blue Book Bulldozers\\Train.csv\")\n",
    "print(train_data.head())"
   ]
  },
  {
   "cell_type": "code",
   "execution_count": null,
   "metadata": {},
   "outputs": [],
   "source": []
  }
 ],
 "metadata": {
  "kernelspec": {
   "display_name": "Python 3",
   "language": "python",
   "name": "python3"
  },
  "language_info": {
   "codemirror_mode": {
    "name": "ipython",
    "version": 3
   },
   "file_extension": ".py",
   "mimetype": "text/x-python",
   "name": "python",
   "nbconvert_exporter": "python",
   "pygments_lexer": "ipython3",
   "version": "3.8.5"
  }
 },
 "nbformat": 4,
 "nbformat_minor": 4
}
