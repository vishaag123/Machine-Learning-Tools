{
 "cells": [
  {
   "cell_type": "code",
   "execution_count": 1,
   "metadata": {},
   "outputs": [],
   "source": [
    "import numpy as np"
   ]
  },
  {
   "cell_type": "code",
   "execution_count": 2,
   "metadata": {},
   "outputs": [
    {
     "name": "stdout",
     "output_type": "stream",
     "text": [
      "[3 8 9 8]\n",
      "<class 'numpy.ndarray'>\n"
     ]
    }
   ],
   "source": [
    "arr=np.array([3,8,9,8])\n",
    "print(arr)\n",
    "print(type(arr))"
   ]
  },
  {
   "cell_type": "code",
   "execution_count": 3,
   "metadata": {},
   "outputs": [
    {
     "name": "stdin",
     "output_type": "stream",
     "text": [
      "Enter No 3\n",
      "Enter No 5\n",
      "Enter No 5\n",
      "Enter No 0\n"
     ]
    },
    {
     "name": "stdout",
     "output_type": "stream",
     "text": [
      "[3 5 5 0]\n"
     ]
    }
   ],
   "source": [
    "l=[]\n",
    "for i in range(4):\n",
    "    a=int(input(\"Enter No\"))\n",
    "    l.append(a)\n",
    "print(np.array(l))"
   ]
  },
  {
   "cell_type": "code",
   "execution_count": 5,
   "metadata": {},
   "outputs": [
    {
     "name": "stdout",
     "output_type": "stream",
     "text": [
      "[[2 3 4 5]\n",
      " [4 4 3 4]]\n",
      "2\n"
     ]
    }
   ],
   "source": [
    "a=[[2,3,4,5],[4,4,3,4]]\n",
    "print(np.array(a))\n",
    "print(np.array(a).ndim)"
   ]
  },
  {
   "cell_type": "code",
   "execution_count": 12,
   "metadata": {},
   "outputs": [
    {
     "name": "stdout",
     "output_type": "stream",
     "text": [
      "[ 9 72 72 64]\n",
      "217\n",
      "28\n",
      "[ 6 16 18 16]\n",
      "217\n"
     ]
    }
   ],
   "source": [
    "arr2=np.array([3,9,8,8])\n",
    "print(arr*arr2)\n",
    "print((arr*arr2).sum())\n",
    "print(arr.sum())\n",
    "print(arr*2)\n",
    "print(np.dot(arr,arr2))"
   ]
  },
  {
   "cell_type": "code",
   "execution_count": 17,
   "metadata": {},
   "outputs": [
    {
     "name": "stdout",
     "output_type": "stream",
     "text": [
      "[[ 3  8  9  8]\n",
      " [ 9  8  9  8]\n",
      " [12 89 34 76]]\n",
      "2\n",
      "(3, 4)\n",
      "[ 217  235 1717] (3,)\n",
      "273\n",
      "(4,)\n"
     ]
    }
   ],
   "source": [
    "a3=[[3,8,9,8],\n",
    "     [9,8,9,8],\n",
    "     [12,89,34,76]]\n",
    "arr3=np.array(a3)\n",
    "print(arr3)\n",
    "print(arr3.ndim)\n",
    "print(arr3.shape)\n",
    "print(np.dot(arr3,arr2),np.dot(arr3,arr2).shape)\n",
    "print(arr3.sum())\n",
    "print(arr2.shape)\n"
   ]
  },
  {
   "cell_type": "markdown",
   "metadata": {},
   "source": [
    "In 1D array, shape is given as tuple such as (4,). In this first axis, here row will have 4 entities and there is no column in this."
   ]
  },
  {
   "cell_type": "code",
   "execution_count": 18,
   "metadata": {},
   "outputs": [
    {
     "name": "stdout",
     "output_type": "stream",
     "text": [
      "int32\n"
     ]
    }
   ],
   "source": [
    "print(arr3.dtype)"
   ]
  },
  {
   "cell_type": "code",
   "execution_count": 19,
   "metadata": {},
   "outputs": [
    {
     "name": "stdout",
     "output_type": "stream",
     "text": [
      "[ 217  235 1717]\n"
     ]
    }
   ],
   "source": [
    "a=np.matmul(arr3,arr2)\n",
    "print(a)"
   ]
  },
  {
   "cell_type": "code",
   "execution_count": 20,
   "metadata": {},
   "outputs": [
    {
     "name": "stdout",
     "output_type": "stream",
     "text": [
      "[ 217  235 1717]\n"
     ]
    }
   ],
   "source": [
    "print(np.dot(arr3,arr2))"
   ]
  },
  {
   "cell_type": "code",
   "execution_count": 22,
   "metadata": {},
   "outputs": [
    {
     "name": "stdout",
     "output_type": "stream",
     "text": [
      "[3 9 8 8]\n",
      "[3 9 8 8]\n",
      "1 1\n",
      "(4,) (4,)\n"
     ]
    }
   ],
   "source": [
    "b=np.transpose(arr2)\n",
    "print(b)\n",
    "print(arr2)\n",
    "print(b.ndim,arr2.ndim)\n",
    "print(b.shape,arr2.shape)"
   ]
  },
  {
   "cell_type": "code",
   "execution_count": 23,
   "metadata": {},
   "outputs": [
    {
     "data": {
      "text/plain": [
       "array([ 217,  235, 1717])"
      ]
     },
     "execution_count": 23,
     "metadata": {},
     "output_type": "execute_result"
    }
   ],
   "source": [
    "arr3 @arr2 # Matrix multiplication can be done by either matpul,dot or @ sign"
   ]
  },
  {
   "cell_type": "code",
   "execution_count": 28,
   "metadata": {},
   "outputs": [
    {
     "name": "stdout",
     "output_type": "stream",
     "text": [
      "C:\\Users\\visha\\Machine Learning Tools\n"
     ]
    }
   ],
   "source": [
    "import os\n",
    "print(os.getcwd())"
   ]
  },
  {
   "cell_type": "code",
   "execution_count": 34,
   "metadata": {},
   "outputs": [
    {
     "name": "stdout",
     "output_type": "stream",
     "text": [
      "['.git', '.ipynb_checkpoints', 'Binary Search.ipynb', 'Graph.ipynb', 'Heap.ipynb', 'LinkedList.ipynb', 'ML Basics.ipynb', 'Python basics.ipynb', 'Queque.ipynb', 'Recursion.ipynb', 'Sorting.ipynb', 'Stack.ipynb', 'Tree.ipynb']\n"
     ]
    }
   ],
   "source": [
    "print(os.listdir(path=r'C:\\Users\\visha\\Python Programming'))"
   ]
  },
  {
   "cell_type": "code",
   "execution_count": 38,
   "metadata": {},
   "outputs": [],
   "source": [
    "os.mkdir(path=r'C:\\Users\\visha\\Python Programming/test_folder')"
   ]
  },
  {
   "cell_type": "code",
   "execution_count": 42,
   "metadata": {},
   "outputs": [
    {
     "name": "stderr",
     "output_type": "stream",
     "text": [
      "C:\\Users\\visha\\anaconda3\\lib\\site-packages\\IPython\\core\\interactiveshell.py:3185: DtypeWarning: Columns (13,39,40,41) have mixed types.Specify dtype option on import or set low_memory=False.\n",
      "  has_raised = await self.run_ast_nodes(code_ast.body, cell_name,\n"
     ]
    },
    {
     "name": "stdout",
     "output_type": "stream",
     "text": [
      "   SalesID  SalePrice  MachineID  ModelID  datasource  auctioneerID  YearMade  \\\n",
      "0  1139246      66000     999089     3157         121           3.0      2004   \n",
      "1  1139248      57000     117657       77         121           3.0      1996   \n",
      "2  1139249      10000     434808     7009         121           3.0      2001   \n",
      "3  1139251      38500    1026470      332         121           3.0      2001   \n",
      "4  1139253      11000    1057373    17311         121           3.0      2007   \n",
      "\n",
      "   MachineHoursCurrentMeter UsageBand         saledate  ...  \\\n",
      "0                      68.0       Low  11/16/2006 0:00  ...   \n",
      "1                    4640.0       Low   3/26/2004 0:00  ...   \n",
      "2                    2838.0      High   2/26/2004 0:00  ...   \n",
      "3                    3486.0      High   5/19/2011 0:00  ...   \n",
      "4                     722.0    Medium   7/23/2009 0:00  ...   \n",
      "\n",
      "  Undercarriage_Pad_Width Stick_Length Thumb Pattern_Changer Grouser_Type  \\\n",
      "0                     NaN          NaN   NaN             NaN          NaN   \n",
      "1                     NaN          NaN   NaN             NaN          NaN   \n",
      "2                     NaN          NaN   NaN             NaN          NaN   \n",
      "3                     NaN          NaN   NaN             NaN          NaN   \n",
      "4                     NaN          NaN   NaN             NaN          NaN   \n",
      "\n",
      "  Backhoe_Mounting Blade_Type Travel_Controls Differential_Type  \\\n",
      "0              NaN        NaN             NaN          Standard   \n",
      "1              NaN        NaN             NaN          Standard   \n",
      "2              NaN        NaN             NaN               NaN   \n",
      "3              NaN        NaN             NaN               NaN   \n",
      "4              NaN        NaN             NaN               NaN   \n",
      "\n",
      "  Steering_Controls  \n",
      "0      Conventional  \n",
      "1      Conventional  \n",
      "2               NaN  \n",
      "3               NaN  \n",
      "4               NaN  \n",
      "\n",
      "[5 rows x 53 columns]\n"
     ]
    }
   ],
   "source": [
    "import pandas as pd\n",
    "t_data=pd.read_csv(r\"C:\\Users\\visha\\first_ML_Course\\Dataset\\Blue Book Bulldozers\\Train.csv\",delimiter=\",\")\n",
    "print(t_data.head())\n"
   ]
  },
  {
   "cell_type": "code",
   "execution_count": 43,
   "metadata": {},
   "outputs": [
    {
     "name": "stdout",
     "output_type": "stream",
     "text": [
      "[[1139246 66000 999089 ... nan 'Standard' 'Conventional']\n",
      " [1139248 57000 117657 ... nan 'Standard' 'Conventional']\n",
      " [1139249 10000 434808 ... nan nan nan]\n",
      " ...\n",
      " [6333338 11500 1887659 ... nan nan nan]\n",
      " [6333341 9000 1903570 ... nan nan nan]\n",
      " [6333342 7750 1926965 ... nan nan nan]]\n"
     ]
    }
   ],
   "source": [
    "t_data_array=t_data.values\n",
    "print(t_data_array)"
   ]
  },
  {
   "cell_type": "code",
   "execution_count": 48,
   "metadata": {},
   "outputs": [
    {
     "name": "stdout",
     "output_type": "stream",
     "text": [
      "2 (401125, 53) object [[1139246 66000 999089 ... nan 'Standard' 'Conventional']\n",
      " [1139248 57000 117657 ... nan 'Standard' 'Conventional']\n",
      " [1139249 10000 434808 ... nan nan nan]\n",
      " ...\n",
      " [6333338 11500 1887659 ... nan nan nan]\n",
      " [6333341 9000 1903570 ... nan nan nan]\n",
      " [6333342 7750 1926965 ... nan nan nan]] 1139246\n"
     ]
    }
   ],
   "source": [
    "print(t_data_array.ndim,t_data_array.shape,t_data_array.dtype,t_data_array.view(),t_data_array.any())"
   ]
  },
  {
   "cell_type": "code",
   "execution_count": 50,
   "metadata": {},
   "outputs": [],
   "source": [
    "arr_1=np.array([[2,3,5,8],[7,1,2,3],[5,9,0,2]])\n",
    "arr_2=np.array([[3,8,9,3],[9,0,3,6],[3,9,2,1]])"
   ]
  },
  {
   "cell_type": "code",
   "execution_count": 51,
   "metadata": {},
   "outputs": [
    {
     "data": {
      "text/plain": [
       "array([[ 5, 11, 14, 11],\n",
       "       [16,  1,  5,  9],\n",
       "       [ 8, 18,  2,  3]])"
      ]
     },
     "execution_count": 51,
     "metadata": {},
     "output_type": "execute_result"
    }
   ],
   "source": [
    "arr_1+arr_2"
   ]
  },
  {
   "cell_type": "code",
   "execution_count": 52,
   "metadata": {},
   "outputs": [
    {
     "data": {
      "text/plain": [
       "array([[-1, -5, -4,  5],\n",
       "       [-2,  1, -1, -3],\n",
       "       [ 2,  0, -2,  1]])"
      ]
     },
     "execution_count": 52,
     "metadata": {},
     "output_type": "execute_result"
    }
   ],
   "source": [
    "arr_1-arr_2"
   ]
  },
  {
   "cell_type": "code",
   "execution_count": 53,
   "metadata": {},
   "outputs": [
    {
     "data": {
      "text/plain": [
       "array([[ 6, 24, 45, 24],\n",
       "       [63,  0,  6, 18],\n",
       "       [15, 81,  0,  2]])"
      ]
     },
     "execution_count": 53,
     "metadata": {},
     "output_type": "execute_result"
    }
   ],
   "source": [
    "arr_1*arr_2"
   ]
  },
  {
   "cell_type": "code",
   "execution_count": 54,
   "metadata": {},
   "outputs": [
    {
     "data": {
      "text/plain": [
       "array([[ 6,  9, 15, 24],\n",
       "       [21,  3,  6,  9],\n",
       "       [15, 27,  0,  6]])"
      ]
     },
     "execution_count": 54,
     "metadata": {},
     "output_type": "execute_result"
    }
   ],
   "source": [
    "arr_1*3"
   ]
  },
  {
   "cell_type": "code",
   "execution_count": 56,
   "metadata": {},
   "outputs": [
    {
     "name": "stdout",
     "output_type": "stream",
     "text": [
      "[[False False False False]\n",
      " [False False False False]\n",
      " [False  True False False]]\n"
     ]
    }
   ],
   "source": [
    "b=arr_1==arr_2\n",
    "print(b)"
   ]
  },
  {
   "cell_type": "code",
   "execution_count": 58,
   "metadata": {},
   "outputs": [
    {
     "name": "stdout",
     "output_type": "stream",
     "text": [
      "[[[0. 0. 0. 0. 0.]\n",
      "  [0. 0. 0. 0. 0.]\n",
      "  [0. 0. 0. 0. 0.]]\n",
      "\n",
      " [[0. 0. 0. 0. 0.]\n",
      "  [0. 0. 0. 0. 0.]\n",
      "  [0. 0. 0. 0. 0.]]\n",
      "\n",
      " [[0. 0. 0. 0. 0.]\n",
      "  [0. 0. 0. 0. 0.]\n",
      "  [0. 0. 0. 0. 0.]]]\n"
     ]
    }
   ],
   "source": [
    "a=np.zeros([3,3,5])\n",
    "print(a)"
   ]
  },
  {
   "cell_type": "code",
   "execution_count": 60,
   "metadata": {},
   "outputs": [
    {
     "name": "stdout",
     "output_type": "stream",
     "text": [
      "[[1. 1.]\n",
      " [1. 1.]\n",
      " [1. 1.]]\n"
     ]
    }
   ],
   "source": [
    "b=np.ones([3,2])\n",
    "print(b)"
   ]
  },
  {
   "cell_type": "code",
   "execution_count": 64,
   "metadata": {},
   "outputs": [
    {
     "name": "stdout",
     "output_type": "stream",
     "text": [
      "[[1. 0. 0. 0. 0.]\n",
      " [0. 1. 0. 0. 0.]\n",
      " [0. 0. 1. 0. 0.]\n",
      " [0. 0. 0. 1. 0.]\n",
      " [0. 0. 0. 0. 1.]]\n"
     ]
    }
   ],
   "source": [
    "c=np.eye(5)\n",
    "print(c)"
   ]
  },
  {
   "cell_type": "code",
   "execution_count": 65,
   "metadata": {},
   "outputs": [
    {
     "name": "stdout",
     "output_type": "stream",
     "text": [
      "[10 13 16 19 22 25 28 31 34 37 40 43 46 49 52 55 58 61 64 67 70 73 76 79\n",
      " 82 85 88]\n"
     ]
    },
    {
     "data": {
      "text/plain": [
       "(27,)"
      ]
     },
     "execution_count": 65,
     "metadata": {},
     "output_type": "execute_result"
    }
   ],
   "source": [
    "d=np.arange(10,90,3)\n",
    "print(d)\n",
    "d.shape"
   ]
  },
  {
   "cell_type": "code",
   "execution_count": 67,
   "metadata": {},
   "outputs": [
    {
     "name": "stdout",
     "output_type": "stream",
     "text": [
      "[[[10 13 16]\n",
      "  [19 22 25]\n",
      "  [28 31 34]]\n",
      "\n",
      " [[37 40 43]\n",
      "  [46 49 52]\n",
      "  [55 58 61]]\n",
      "\n",
      " [[64 67 70]\n",
      "  [73 76 79]\n",
      "  [82 85 88]]]\n"
     ]
    }
   ],
   "source": [
    "d=np.arange(10,90,3).reshape([3,3,-1])\n",
    "print(d)"
   ]
  },
  {
   "cell_type": "code",
   "execution_count": 68,
   "metadata": {},
   "outputs": [
    {
     "name": "stdout",
     "output_type": "stream",
     "text": [
      "58\n"
     ]
    }
   ],
   "source": [
    "print(d[1,2,1])"
   ]
  },
  {
   "cell_type": "code",
   "execution_count": 70,
   "metadata": {},
   "outputs": [
    {
     "name": "stdout",
     "output_type": "stream",
     "text": [
      "[[55 58]\n",
      " [82 85]]\n"
     ]
    }
   ],
   "source": [
    "print(d[1:,2,:2])"
   ]
  },
  {
   "cell_type": "code",
   "execution_count": 72,
   "metadata": {},
   "outputs": [
    {
     "name": "stdout",
     "output_type": "stream",
     "text": [
      "[10. 20. 30. 40. 50. 60. 70. 80. 90.]\n"
     ]
    }
   ],
   "source": [
    "d=np.linspace(10,90,9)\n",
    "print(d)"
   ]
  },
  {
   "cell_type": "code",
   "execution_count": 73,
   "metadata": {},
   "outputs": [
    {
     "name": "stdout",
     "output_type": "stream",
     "text": [
      "[[0.79145836 0.08803897]\n",
      " [0.63691374 0.61363108]\n",
      " [0.03195884 0.78732495]]\n"
     ]
    }
   ],
   "source": [
    "e=np.random.rand(3,2)\n",
    "print(e)"
   ]
  },
  {
   "cell_type": "code",
   "execution_count": 75,
   "metadata": {},
   "outputs": [
    {
     "name": "stdout",
     "output_type": "stream",
     "text": [
      "[[[ 0.81603828 -0.23600651  1.94036188  0.48732349 -1.79294091]\n",
      "  [-1.27909024  0.29686842  0.32562801 -1.19515677 -0.74849096]\n",
      "  [-0.67512784 -0.83733654 -0.99793741  1.12079415 -0.48167722]\n",
      "  [-0.26187488  0.64037106  0.69700409  0.44273844  1.48229836]\n",
      "  [-0.13156022 -1.61284326  0.27202148 -0.31222082 -0.18777341]]\n",
      "\n",
      " [[-0.25570534  0.1477833   0.81718023 -1.29971176  0.94747386]\n",
      "  [ 1.24812762 -2.07974693  0.37248319 -1.92921538 -1.06331386]\n",
      "  [ 0.06101858 -0.9572175   1.01968765 -0.60041256  1.02326803]\n",
      "  [ 0.93838565  0.64676055  0.40733126 -0.77639143  0.93824531]\n",
      "  [ 0.19215746  1.17088541  0.71291942  0.50751099  0.73761819]]\n",
      "\n",
      " [[-0.34170079 -1.32682428 -0.05019963 -0.10324278  0.3463234 ]\n",
      "  [-0.82156289 -0.99215716  0.29461234  0.08601984  0.9096587 ]\n",
      "  [-1.63002102 -0.72711189  0.63432654  0.56590144 -1.37476343]\n",
      "  [-0.36134614  0.88410225  0.45697316 -0.77151974  1.05405337]\n",
      "  [-1.11777221  0.81277514 -0.48632837 -1.7053886   0.40953409]]\n",
      "\n",
      " [[-0.60850778  0.47822992 -0.23691586 -0.29661788  0.03906504]\n",
      "  [ 0.36398364  0.17791763 -0.22874419 -0.38790209  0.08383767]\n",
      "  [ 1.820638    0.25607142  1.33325722  0.56376614 -0.31172166]\n",
      "  [-0.78319904  0.61345891 -0.33973132  0.00364386  0.57184312]\n",
      "  [-2.15120306  0.8533771   0.54410916 -0.05420939 -1.67872623]]]\n"
     ]
    }
   ],
   "source": [
    "f=np.random.randn(4,5,5)\n",
    "print(f)"
   ]
  },
  {
   "cell_type": "code",
   "execution_count": null,
   "metadata": {},
   "outputs": [],
   "source": []
  }
 ],
 "metadata": {
  "kernelspec": {
   "display_name": "Python 3",
   "language": "python",
   "name": "python3"
  },
  "language_info": {
   "codemirror_mode": {
    "name": "ipython",
    "version": 3
   },
   "file_extension": ".py",
   "mimetype": "text/x-python",
   "name": "python",
   "nbconvert_exporter": "python",
   "pygments_lexer": "ipython3",
   "version": "3.8.5"
  }
 },
 "nbformat": 4,
 "nbformat_minor": 4
}
