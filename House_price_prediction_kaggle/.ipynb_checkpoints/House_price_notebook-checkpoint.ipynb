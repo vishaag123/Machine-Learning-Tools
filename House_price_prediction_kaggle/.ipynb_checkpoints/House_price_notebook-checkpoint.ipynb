{
 "cells": [
  {
   "cell_type": "code",
   "execution_count": 1,
   "metadata": {},
   "outputs": [],
   "source": [
    "import pandas as pd\n",
    "import numpy as np\n",
    "import matplotlib.pyplot as plt\n",
    "%matplotlib inline\n",
    "import seaborn as sns"
   ]
  },
  {
   "cell_type": "code",
   "execution_count": 2,
   "metadata": {},
   "outputs": [],
   "source": [
    "df_train=pd.read_csv(r\"C:\\Users\\visha\\Machine Learning Tools\\House_price_prediction_kaggle\\train (1).csv\")\n",
    "df_test=pd.read_csv(r\"C:\\Users\\visha\\Machine Learning Tools\\House_price_prediction_kaggle\\test.csv\")"
   ]
  },
  {
   "cell_type": "code",
   "execution_count": 3,
   "metadata": {},
   "outputs": [
    {
     "data": {
      "text/html": [
       "<div>\n",
       "<style scoped>\n",
       "    .dataframe tbody tr th:only-of-type {\n",
       "        vertical-align: middle;\n",
       "    }\n",
       "\n",
       "    .dataframe tbody tr th {\n",
       "        vertical-align: top;\n",
       "    }\n",
       "\n",
       "    .dataframe thead th {\n",
       "        text-align: right;\n",
       "    }\n",
       "</style>\n",
       "<table border=\"1\" class=\"dataframe\">\n",
       "  <thead>\n",
       "    <tr style=\"text-align: right;\">\n",
       "      <th></th>\n",
       "      <th>Id</th>\n",
       "      <th>MSSubClass</th>\n",
       "      <th>MSZoning</th>\n",
       "      <th>LotFrontage</th>\n",
       "      <th>LotArea</th>\n",
       "      <th>Street</th>\n",
       "      <th>Alley</th>\n",
       "      <th>LotShape</th>\n",
       "      <th>LandContour</th>\n",
       "      <th>Utilities</th>\n",
       "      <th>...</th>\n",
       "      <th>PoolArea</th>\n",
       "      <th>PoolQC</th>\n",
       "      <th>Fence</th>\n",
       "      <th>MiscFeature</th>\n",
       "      <th>MiscVal</th>\n",
       "      <th>MoSold</th>\n",
       "      <th>YrSold</th>\n",
       "      <th>SaleType</th>\n",
       "      <th>SaleCondition</th>\n",
       "      <th>SalePrice</th>\n",
       "    </tr>\n",
       "  </thead>\n",
       "  <tbody>\n",
       "    <tr>\n",
       "      <th>0</th>\n",
       "      <td>1</td>\n",
       "      <td>60</td>\n",
       "      <td>RL</td>\n",
       "      <td>65.0</td>\n",
       "      <td>8450</td>\n",
       "      <td>Pave</td>\n",
       "      <td>NaN</td>\n",
       "      <td>Reg</td>\n",
       "      <td>Lvl</td>\n",
       "      <td>AllPub</td>\n",
       "      <td>...</td>\n",
       "      <td>0</td>\n",
       "      <td>NaN</td>\n",
       "      <td>NaN</td>\n",
       "      <td>NaN</td>\n",
       "      <td>0</td>\n",
       "      <td>2</td>\n",
       "      <td>2008</td>\n",
       "      <td>WD</td>\n",
       "      <td>Normal</td>\n",
       "      <td>208500</td>\n",
       "    </tr>\n",
       "    <tr>\n",
       "      <th>1</th>\n",
       "      <td>2</td>\n",
       "      <td>20</td>\n",
       "      <td>RL</td>\n",
       "      <td>80.0</td>\n",
       "      <td>9600</td>\n",
       "      <td>Pave</td>\n",
       "      <td>NaN</td>\n",
       "      <td>Reg</td>\n",
       "      <td>Lvl</td>\n",
       "      <td>AllPub</td>\n",
       "      <td>...</td>\n",
       "      <td>0</td>\n",
       "      <td>NaN</td>\n",
       "      <td>NaN</td>\n",
       "      <td>NaN</td>\n",
       "      <td>0</td>\n",
       "      <td>5</td>\n",
       "      <td>2007</td>\n",
       "      <td>WD</td>\n",
       "      <td>Normal</td>\n",
       "      <td>181500</td>\n",
       "    </tr>\n",
       "    <tr>\n",
       "      <th>2</th>\n",
       "      <td>3</td>\n",
       "      <td>60</td>\n",
       "      <td>RL</td>\n",
       "      <td>68.0</td>\n",
       "      <td>11250</td>\n",
       "      <td>Pave</td>\n",
       "      <td>NaN</td>\n",
       "      <td>IR1</td>\n",
       "      <td>Lvl</td>\n",
       "      <td>AllPub</td>\n",
       "      <td>...</td>\n",
       "      <td>0</td>\n",
       "      <td>NaN</td>\n",
       "      <td>NaN</td>\n",
       "      <td>NaN</td>\n",
       "      <td>0</td>\n",
       "      <td>9</td>\n",
       "      <td>2008</td>\n",
       "      <td>WD</td>\n",
       "      <td>Normal</td>\n",
       "      <td>223500</td>\n",
       "    </tr>\n",
       "    <tr>\n",
       "      <th>3</th>\n",
       "      <td>4</td>\n",
       "      <td>70</td>\n",
       "      <td>RL</td>\n",
       "      <td>60.0</td>\n",
       "      <td>9550</td>\n",
       "      <td>Pave</td>\n",
       "      <td>NaN</td>\n",
       "      <td>IR1</td>\n",
       "      <td>Lvl</td>\n",
       "      <td>AllPub</td>\n",
       "      <td>...</td>\n",
       "      <td>0</td>\n",
       "      <td>NaN</td>\n",
       "      <td>NaN</td>\n",
       "      <td>NaN</td>\n",
       "      <td>0</td>\n",
       "      <td>2</td>\n",
       "      <td>2006</td>\n",
       "      <td>WD</td>\n",
       "      <td>Abnorml</td>\n",
       "      <td>140000</td>\n",
       "    </tr>\n",
       "    <tr>\n",
       "      <th>4</th>\n",
       "      <td>5</td>\n",
       "      <td>60</td>\n",
       "      <td>RL</td>\n",
       "      <td>84.0</td>\n",
       "      <td>14260</td>\n",
       "      <td>Pave</td>\n",
       "      <td>NaN</td>\n",
       "      <td>IR1</td>\n",
       "      <td>Lvl</td>\n",
       "      <td>AllPub</td>\n",
       "      <td>...</td>\n",
       "      <td>0</td>\n",
       "      <td>NaN</td>\n",
       "      <td>NaN</td>\n",
       "      <td>NaN</td>\n",
       "      <td>0</td>\n",
       "      <td>12</td>\n",
       "      <td>2008</td>\n",
       "      <td>WD</td>\n",
       "      <td>Normal</td>\n",
       "      <td>250000</td>\n",
       "    </tr>\n",
       "  </tbody>\n",
       "</table>\n",
       "<p>5 rows × 81 columns</p>\n",
       "</div>"
      ],
      "text/plain": [
       "   Id  MSSubClass MSZoning  LotFrontage  LotArea Street Alley LotShape  \\\n",
       "0   1          60       RL         65.0     8450   Pave   NaN      Reg   \n",
       "1   2          20       RL         80.0     9600   Pave   NaN      Reg   \n",
       "2   3          60       RL         68.0    11250   Pave   NaN      IR1   \n",
       "3   4          70       RL         60.0     9550   Pave   NaN      IR1   \n",
       "4   5          60       RL         84.0    14260   Pave   NaN      IR1   \n",
       "\n",
       "  LandContour Utilities  ... PoolArea PoolQC Fence MiscFeature MiscVal MoSold  \\\n",
       "0         Lvl    AllPub  ...        0    NaN   NaN         NaN       0      2   \n",
       "1         Lvl    AllPub  ...        0    NaN   NaN         NaN       0      5   \n",
       "2         Lvl    AllPub  ...        0    NaN   NaN         NaN       0      9   \n",
       "3         Lvl    AllPub  ...        0    NaN   NaN         NaN       0      2   \n",
       "4         Lvl    AllPub  ...        0    NaN   NaN         NaN       0     12   \n",
       "\n",
       "  YrSold  SaleType  SaleCondition  SalePrice  \n",
       "0   2008        WD         Normal     208500  \n",
       "1   2007        WD         Normal     181500  \n",
       "2   2008        WD         Normal     223500  \n",
       "3   2006        WD        Abnorml     140000  \n",
       "4   2008        WD         Normal     250000  \n",
       "\n",
       "[5 rows x 81 columns]"
      ]
     },
     "execution_count": 3,
     "metadata": {},
     "output_type": "execute_result"
    }
   ],
   "source": [
    "df_train.head()"
   ]
  },
  {
   "cell_type": "code",
   "execution_count": 4,
   "metadata": {},
   "outputs": [
    {
     "name": "stdout",
     "output_type": "stream",
     "text": [
      "<class 'pandas.core.frame.DataFrame'>\n",
      "RangeIndex: 1460 entries, 0 to 1459\n",
      "Data columns (total 81 columns):\n",
      " #   Column         Non-Null Count  Dtype  \n",
      "---  ------         --------------  -----  \n",
      " 0   Id             1460 non-null   int64  \n",
      " 1   MSSubClass     1460 non-null   int64  \n",
      " 2   MSZoning       1460 non-null   object \n",
      " 3   LotFrontage    1201 non-null   float64\n",
      " 4   LotArea        1460 non-null   int64  \n",
      " 5   Street         1460 non-null   object \n",
      " 6   Alley          91 non-null     object \n",
      " 7   LotShape       1460 non-null   object \n",
      " 8   LandContour    1460 non-null   object \n",
      " 9   Utilities      1460 non-null   object \n",
      " 10  LotConfig      1460 non-null   object \n",
      " 11  LandSlope      1460 non-null   object \n",
      " 12  Neighborhood   1460 non-null   object \n",
      " 13  Condition1     1460 non-null   object \n",
      " 14  Condition2     1460 non-null   object \n",
      " 15  BldgType       1460 non-null   object \n",
      " 16  HouseStyle     1460 non-null   object \n",
      " 17  OverallQual    1460 non-null   int64  \n",
      " 18  OverallCond    1460 non-null   int64  \n",
      " 19  YearBuilt      1460 non-null   int64  \n",
      " 20  YearRemodAdd   1460 non-null   int64  \n",
      " 21  RoofStyle      1460 non-null   object \n",
      " 22  RoofMatl       1460 non-null   object \n",
      " 23  Exterior1st    1460 non-null   object \n",
      " 24  Exterior2nd    1460 non-null   object \n",
      " 25  MasVnrType     1452 non-null   object \n",
      " 26  MasVnrArea     1452 non-null   float64\n",
      " 27  ExterQual      1460 non-null   object \n",
      " 28  ExterCond      1460 non-null   object \n",
      " 29  Foundation     1460 non-null   object \n",
      " 30  BsmtQual       1423 non-null   object \n",
      " 31  BsmtCond       1423 non-null   object \n",
      " 32  BsmtExposure   1422 non-null   object \n",
      " 33  BsmtFinType1   1423 non-null   object \n",
      " 34  BsmtFinSF1     1460 non-null   int64  \n",
      " 35  BsmtFinType2   1422 non-null   object \n",
      " 36  BsmtFinSF2     1460 non-null   int64  \n",
      " 37  BsmtUnfSF      1460 non-null   int64  \n",
      " 38  TotalBsmtSF    1460 non-null   int64  \n",
      " 39  Heating        1460 non-null   object \n",
      " 40  HeatingQC      1460 non-null   object \n",
      " 41  CentralAir     1460 non-null   object \n",
      " 42  Electrical     1459 non-null   object \n",
      " 43  1stFlrSF       1460 non-null   int64  \n",
      " 44  2ndFlrSF       1460 non-null   int64  \n",
      " 45  LowQualFinSF   1460 non-null   int64  \n",
      " 46  GrLivArea      1460 non-null   int64  \n",
      " 47  BsmtFullBath   1460 non-null   int64  \n",
      " 48  BsmtHalfBath   1460 non-null   int64  \n",
      " 49  FullBath       1460 non-null   int64  \n",
      " 50  HalfBath       1460 non-null   int64  \n",
      " 51  BedroomAbvGr   1460 non-null   int64  \n",
      " 52  KitchenAbvGr   1460 non-null   int64  \n",
      " 53  KitchenQual    1460 non-null   object \n",
      " 54  TotRmsAbvGrd   1460 non-null   int64  \n",
      " 55  Functional     1460 non-null   object \n",
      " 56  Fireplaces     1460 non-null   int64  \n",
      " 57  FireplaceQu    770 non-null    object \n",
      " 58  GarageType     1379 non-null   object \n",
      " 59  GarageYrBlt    1379 non-null   float64\n",
      " 60  GarageFinish   1379 non-null   object \n",
      " 61  GarageCars     1460 non-null   int64  \n",
      " 62  GarageArea     1460 non-null   int64  \n",
      " 63  GarageQual     1379 non-null   object \n",
      " 64  GarageCond     1379 non-null   object \n",
      " 65  PavedDrive     1460 non-null   object \n",
      " 66  WoodDeckSF     1460 non-null   int64  \n",
      " 67  OpenPorchSF    1460 non-null   int64  \n",
      " 68  EnclosedPorch  1460 non-null   int64  \n",
      " 69  3SsnPorch      1460 non-null   int64  \n",
      " 70  ScreenPorch    1460 non-null   int64  \n",
      " 71  PoolArea       1460 non-null   int64  \n",
      " 72  PoolQC         7 non-null      object \n",
      " 73  Fence          281 non-null    object \n",
      " 74  MiscFeature    54 non-null     object \n",
      " 75  MiscVal        1460 non-null   int64  \n",
      " 76  MoSold         1460 non-null   int64  \n",
      " 77  YrSold         1460 non-null   int64  \n",
      " 78  SaleType       1460 non-null   object \n",
      " 79  SaleCondition  1460 non-null   object \n",
      " 80  SalePrice      1460 non-null   int64  \n",
      "dtypes: float64(3), int64(35), object(43)\n",
      "memory usage: 924.0+ KB\n"
     ]
    }
   ],
   "source": [
    "df_train.info()"
   ]
  },
  {
   "cell_type": "code",
   "execution_count": 5,
   "metadata": {},
   "outputs": [
    {
     "data": {
      "text/html": [
       "<div>\n",
       "<style scoped>\n",
       "    .dataframe tbody tr th:only-of-type {\n",
       "        vertical-align: middle;\n",
       "    }\n",
       "\n",
       "    .dataframe tbody tr th {\n",
       "        vertical-align: top;\n",
       "    }\n",
       "\n",
       "    .dataframe thead th {\n",
       "        text-align: right;\n",
       "    }\n",
       "</style>\n",
       "<table border=\"1\" class=\"dataframe\">\n",
       "  <thead>\n",
       "    <tr style=\"text-align: right;\">\n",
       "      <th></th>\n",
       "      <th>Id</th>\n",
       "      <th>MSSubClass</th>\n",
       "      <th>LotFrontage</th>\n",
       "      <th>LotArea</th>\n",
       "      <th>OverallQual</th>\n",
       "      <th>OverallCond</th>\n",
       "      <th>YearBuilt</th>\n",
       "      <th>YearRemodAdd</th>\n",
       "      <th>MasVnrArea</th>\n",
       "      <th>BsmtFinSF1</th>\n",
       "      <th>...</th>\n",
       "      <th>WoodDeckSF</th>\n",
       "      <th>OpenPorchSF</th>\n",
       "      <th>EnclosedPorch</th>\n",
       "      <th>3SsnPorch</th>\n",
       "      <th>ScreenPorch</th>\n",
       "      <th>PoolArea</th>\n",
       "      <th>MiscVal</th>\n",
       "      <th>MoSold</th>\n",
       "      <th>YrSold</th>\n",
       "      <th>SalePrice</th>\n",
       "    </tr>\n",
       "  </thead>\n",
       "  <tbody>\n",
       "    <tr>\n",
       "      <th>count</th>\n",
       "      <td>1460.000000</td>\n",
       "      <td>1460.000000</td>\n",
       "      <td>1201.000000</td>\n",
       "      <td>1460.000000</td>\n",
       "      <td>1460.000000</td>\n",
       "      <td>1460.000000</td>\n",
       "      <td>1460.000000</td>\n",
       "      <td>1460.000000</td>\n",
       "      <td>1452.000000</td>\n",
       "      <td>1460.000000</td>\n",
       "      <td>...</td>\n",
       "      <td>1460.000000</td>\n",
       "      <td>1460.000000</td>\n",
       "      <td>1460.000000</td>\n",
       "      <td>1460.000000</td>\n",
       "      <td>1460.000000</td>\n",
       "      <td>1460.000000</td>\n",
       "      <td>1460.000000</td>\n",
       "      <td>1460.000000</td>\n",
       "      <td>1460.000000</td>\n",
       "      <td>1460.000000</td>\n",
       "    </tr>\n",
       "    <tr>\n",
       "      <th>mean</th>\n",
       "      <td>730.500000</td>\n",
       "      <td>56.897260</td>\n",
       "      <td>70.049958</td>\n",
       "      <td>10516.828082</td>\n",
       "      <td>6.099315</td>\n",
       "      <td>5.575342</td>\n",
       "      <td>1971.267808</td>\n",
       "      <td>1984.865753</td>\n",
       "      <td>103.685262</td>\n",
       "      <td>443.639726</td>\n",
       "      <td>...</td>\n",
       "      <td>94.244521</td>\n",
       "      <td>46.660274</td>\n",
       "      <td>21.954110</td>\n",
       "      <td>3.409589</td>\n",
       "      <td>15.060959</td>\n",
       "      <td>2.758904</td>\n",
       "      <td>43.489041</td>\n",
       "      <td>6.321918</td>\n",
       "      <td>2007.815753</td>\n",
       "      <td>180921.195890</td>\n",
       "    </tr>\n",
       "    <tr>\n",
       "      <th>std</th>\n",
       "      <td>421.610009</td>\n",
       "      <td>42.300571</td>\n",
       "      <td>24.284752</td>\n",
       "      <td>9981.264932</td>\n",
       "      <td>1.382997</td>\n",
       "      <td>1.112799</td>\n",
       "      <td>30.202904</td>\n",
       "      <td>20.645407</td>\n",
       "      <td>181.066207</td>\n",
       "      <td>456.098091</td>\n",
       "      <td>...</td>\n",
       "      <td>125.338794</td>\n",
       "      <td>66.256028</td>\n",
       "      <td>61.119149</td>\n",
       "      <td>29.317331</td>\n",
       "      <td>55.757415</td>\n",
       "      <td>40.177307</td>\n",
       "      <td>496.123024</td>\n",
       "      <td>2.703626</td>\n",
       "      <td>1.328095</td>\n",
       "      <td>79442.502883</td>\n",
       "    </tr>\n",
       "    <tr>\n",
       "      <th>min</th>\n",
       "      <td>1.000000</td>\n",
       "      <td>20.000000</td>\n",
       "      <td>21.000000</td>\n",
       "      <td>1300.000000</td>\n",
       "      <td>1.000000</td>\n",
       "      <td>1.000000</td>\n",
       "      <td>1872.000000</td>\n",
       "      <td>1950.000000</td>\n",
       "      <td>0.000000</td>\n",
       "      <td>0.000000</td>\n",
       "      <td>...</td>\n",
       "      <td>0.000000</td>\n",
       "      <td>0.000000</td>\n",
       "      <td>0.000000</td>\n",
       "      <td>0.000000</td>\n",
       "      <td>0.000000</td>\n",
       "      <td>0.000000</td>\n",
       "      <td>0.000000</td>\n",
       "      <td>1.000000</td>\n",
       "      <td>2006.000000</td>\n",
       "      <td>34900.000000</td>\n",
       "    </tr>\n",
       "    <tr>\n",
       "      <th>25%</th>\n",
       "      <td>365.750000</td>\n",
       "      <td>20.000000</td>\n",
       "      <td>59.000000</td>\n",
       "      <td>7553.500000</td>\n",
       "      <td>5.000000</td>\n",
       "      <td>5.000000</td>\n",
       "      <td>1954.000000</td>\n",
       "      <td>1967.000000</td>\n",
       "      <td>0.000000</td>\n",
       "      <td>0.000000</td>\n",
       "      <td>...</td>\n",
       "      <td>0.000000</td>\n",
       "      <td>0.000000</td>\n",
       "      <td>0.000000</td>\n",
       "      <td>0.000000</td>\n",
       "      <td>0.000000</td>\n",
       "      <td>0.000000</td>\n",
       "      <td>0.000000</td>\n",
       "      <td>5.000000</td>\n",
       "      <td>2007.000000</td>\n",
       "      <td>129975.000000</td>\n",
       "    </tr>\n",
       "    <tr>\n",
       "      <th>50%</th>\n",
       "      <td>730.500000</td>\n",
       "      <td>50.000000</td>\n",
       "      <td>69.000000</td>\n",
       "      <td>9478.500000</td>\n",
       "      <td>6.000000</td>\n",
       "      <td>5.000000</td>\n",
       "      <td>1973.000000</td>\n",
       "      <td>1994.000000</td>\n",
       "      <td>0.000000</td>\n",
       "      <td>383.500000</td>\n",
       "      <td>...</td>\n",
       "      <td>0.000000</td>\n",
       "      <td>25.000000</td>\n",
       "      <td>0.000000</td>\n",
       "      <td>0.000000</td>\n",
       "      <td>0.000000</td>\n",
       "      <td>0.000000</td>\n",
       "      <td>0.000000</td>\n",
       "      <td>6.000000</td>\n",
       "      <td>2008.000000</td>\n",
       "      <td>163000.000000</td>\n",
       "    </tr>\n",
       "    <tr>\n",
       "      <th>75%</th>\n",
       "      <td>1095.250000</td>\n",
       "      <td>70.000000</td>\n",
       "      <td>80.000000</td>\n",
       "      <td>11601.500000</td>\n",
       "      <td>7.000000</td>\n",
       "      <td>6.000000</td>\n",
       "      <td>2000.000000</td>\n",
       "      <td>2004.000000</td>\n",
       "      <td>166.000000</td>\n",
       "      <td>712.250000</td>\n",
       "      <td>...</td>\n",
       "      <td>168.000000</td>\n",
       "      <td>68.000000</td>\n",
       "      <td>0.000000</td>\n",
       "      <td>0.000000</td>\n",
       "      <td>0.000000</td>\n",
       "      <td>0.000000</td>\n",
       "      <td>0.000000</td>\n",
       "      <td>8.000000</td>\n",
       "      <td>2009.000000</td>\n",
       "      <td>214000.000000</td>\n",
       "    </tr>\n",
       "    <tr>\n",
       "      <th>max</th>\n",
       "      <td>1460.000000</td>\n",
       "      <td>190.000000</td>\n",
       "      <td>313.000000</td>\n",
       "      <td>215245.000000</td>\n",
       "      <td>10.000000</td>\n",
       "      <td>9.000000</td>\n",
       "      <td>2010.000000</td>\n",
       "      <td>2010.000000</td>\n",
       "      <td>1600.000000</td>\n",
       "      <td>5644.000000</td>\n",
       "      <td>...</td>\n",
       "      <td>857.000000</td>\n",
       "      <td>547.000000</td>\n",
       "      <td>552.000000</td>\n",
       "      <td>508.000000</td>\n",
       "      <td>480.000000</td>\n",
       "      <td>738.000000</td>\n",
       "      <td>15500.000000</td>\n",
       "      <td>12.000000</td>\n",
       "      <td>2010.000000</td>\n",
       "      <td>755000.000000</td>\n",
       "    </tr>\n",
       "  </tbody>\n",
       "</table>\n",
       "<p>8 rows × 38 columns</p>\n",
       "</div>"
      ],
      "text/plain": [
       "                Id   MSSubClass  LotFrontage        LotArea  OverallQual  \\\n",
       "count  1460.000000  1460.000000  1201.000000    1460.000000  1460.000000   \n",
       "mean    730.500000    56.897260    70.049958   10516.828082     6.099315   \n",
       "std     421.610009    42.300571    24.284752    9981.264932     1.382997   \n",
       "min       1.000000    20.000000    21.000000    1300.000000     1.000000   \n",
       "25%     365.750000    20.000000    59.000000    7553.500000     5.000000   \n",
       "50%     730.500000    50.000000    69.000000    9478.500000     6.000000   \n",
       "75%    1095.250000    70.000000    80.000000   11601.500000     7.000000   \n",
       "max    1460.000000   190.000000   313.000000  215245.000000    10.000000   \n",
       "\n",
       "       OverallCond    YearBuilt  YearRemodAdd   MasVnrArea   BsmtFinSF1  ...  \\\n",
       "count  1460.000000  1460.000000   1460.000000  1452.000000  1460.000000  ...   \n",
       "mean      5.575342  1971.267808   1984.865753   103.685262   443.639726  ...   \n",
       "std       1.112799    30.202904     20.645407   181.066207   456.098091  ...   \n",
       "min       1.000000  1872.000000   1950.000000     0.000000     0.000000  ...   \n",
       "25%       5.000000  1954.000000   1967.000000     0.000000     0.000000  ...   \n",
       "50%       5.000000  1973.000000   1994.000000     0.000000   383.500000  ...   \n",
       "75%       6.000000  2000.000000   2004.000000   166.000000   712.250000  ...   \n",
       "max       9.000000  2010.000000   2010.000000  1600.000000  5644.000000  ...   \n",
       "\n",
       "        WoodDeckSF  OpenPorchSF  EnclosedPorch    3SsnPorch  ScreenPorch  \\\n",
       "count  1460.000000  1460.000000    1460.000000  1460.000000  1460.000000   \n",
       "mean     94.244521    46.660274      21.954110     3.409589    15.060959   \n",
       "std     125.338794    66.256028      61.119149    29.317331    55.757415   \n",
       "min       0.000000     0.000000       0.000000     0.000000     0.000000   \n",
       "25%       0.000000     0.000000       0.000000     0.000000     0.000000   \n",
       "50%       0.000000    25.000000       0.000000     0.000000     0.000000   \n",
       "75%     168.000000    68.000000       0.000000     0.000000     0.000000   \n",
       "max     857.000000   547.000000     552.000000   508.000000   480.000000   \n",
       "\n",
       "          PoolArea       MiscVal       MoSold       YrSold      SalePrice  \n",
       "count  1460.000000   1460.000000  1460.000000  1460.000000    1460.000000  \n",
       "mean      2.758904     43.489041     6.321918  2007.815753  180921.195890  \n",
       "std      40.177307    496.123024     2.703626     1.328095   79442.502883  \n",
       "min       0.000000      0.000000     1.000000  2006.000000   34900.000000  \n",
       "25%       0.000000      0.000000     5.000000  2007.000000  129975.000000  \n",
       "50%       0.000000      0.000000     6.000000  2008.000000  163000.000000  \n",
       "75%       0.000000      0.000000     8.000000  2009.000000  214000.000000  \n",
       "max     738.000000  15500.000000    12.000000  2010.000000  755000.000000  \n",
       "\n",
       "[8 rows x 38 columns]"
      ]
     },
     "execution_count": 5,
     "metadata": {},
     "output_type": "execute_result"
    }
   ],
   "source": [
    "df_train.describe()"
   ]
  },
  {
   "cell_type": "code",
   "execution_count": 6,
   "metadata": {},
   "outputs": [
    {
     "data": {
      "text/plain": [
       "((1460, 81), (1459, 80))"
      ]
     },
     "execution_count": 6,
     "metadata": {},
     "output_type": "execute_result"
    }
   ],
   "source": [
    "df_train.shape, df_test.shape"
   ]
  },
  {
   "cell_type": "markdown",
   "metadata": {},
   "source": [
    "## Missing Value Stats"
   ]
  },
  {
   "cell_type": "code",
   "execution_count": 7,
   "metadata": {},
   "outputs": [
    {
     "data": {
      "text/plain": [
       "Id                 0\n",
       "MSSubClass         0\n",
       "MSZoning           0\n",
       "LotFrontage      259\n",
       "LotArea            0\n",
       "                ... \n",
       "MoSold             0\n",
       "YrSold             0\n",
       "SaleType           0\n",
       "SaleCondition      0\n",
       "SalePrice          0\n",
       "Length: 81, dtype: int64"
      ]
     },
     "execution_count": 7,
     "metadata": {},
     "output_type": "execute_result"
    }
   ],
   "source": [
    "df_train.isnull().sum()"
   ]
  },
  {
   "cell_type": "code",
   "execution_count": 8,
   "metadata": {},
   "outputs": [
    {
     "data": {
      "text/plain": [
       "Id                 0\n",
       "MSSubClass         0\n",
       "MSZoning           4\n",
       "LotFrontage      227\n",
       "LotArea            0\n",
       "                ... \n",
       "MiscVal            0\n",
       "MoSold             0\n",
       "YrSold             0\n",
       "SaleType           1\n",
       "SaleCondition      0\n",
       "Length: 80, dtype: int64"
      ]
     },
     "execution_count": 8,
     "metadata": {},
     "output_type": "execute_result"
    }
   ],
   "source": [
    "df_test.isnull().sum()"
   ]
  },
  {
   "cell_type": "code",
   "execution_count": 9,
   "metadata": {},
   "outputs": [],
   "source": [
    "train_missing=[feature for feature in df_train.columns if df_train[feature].isnull().sum()>0]"
   ]
  },
  {
   "cell_type": "code",
   "execution_count": 10,
   "metadata": {},
   "outputs": [],
   "source": [
    "test_missing=[feature for feature in df_test.columns if df_test[feature].isnull().sum()>0]"
   ]
  },
  {
   "cell_type": "code",
   "execution_count": 11,
   "metadata": {},
   "outputs": [
    {
     "data": {
      "text/plain": [
       "[('LotFrontage', 17.73972602739726),\n",
       " ('Alley', 93.76712328767123),\n",
       " ('MasVnrType', 0.547945205479452),\n",
       " ('MasVnrArea', 0.547945205479452),\n",
       " ('BsmtQual', 2.5342465753424657),\n",
       " ('BsmtCond', 2.5342465753424657),\n",
       " ('BsmtExposure', 2.6027397260273974),\n",
       " ('BsmtFinType1', 2.5342465753424657),\n",
       " ('BsmtFinType2', 2.6027397260273974),\n",
       " ('Electrical', 0.0684931506849315),\n",
       " ('FireplaceQu', 47.26027397260274),\n",
       " ('GarageType', 5.5479452054794525),\n",
       " ('GarageYrBlt', 5.5479452054794525),\n",
       " ('GarageFinish', 5.5479452054794525),\n",
       " ('GarageQual', 5.5479452054794525),\n",
       " ('GarageCond', 5.5479452054794525),\n",
       " ('PoolQC', 99.52054794520548),\n",
       " ('Fence', 80.75342465753424),\n",
       " ('MiscFeature', 96.30136986301369)]"
      ]
     },
     "execution_count": 11,
     "metadata": {},
     "output_type": "execute_result"
    }
   ],
   "source": [
    "[(x, (df_train[x].isnull().sum()/df_train.shape[0])*100) for x in train_missing ]"
   ]
  },
  {
   "cell_type": "code",
   "execution_count": 12,
   "metadata": {},
   "outputs": [
    {
     "data": {
      "text/plain": [
       "[('MSZoning', 0.2741603838245374),\n",
       " ('LotFrontage', 15.558601782042494),\n",
       " ('Alley', 92.66620973269363),\n",
       " ('Utilities', 0.1370801919122687),\n",
       " ('Exterior1st', 0.06854009595613435),\n",
       " ('Exterior2nd', 0.06854009595613435),\n",
       " ('MasVnrType', 1.0966415352981496),\n",
       " ('MasVnrArea', 1.0281014393420151),\n",
       " ('BsmtQual', 3.015764222069911),\n",
       " ('BsmtCond', 3.0843043180260454),\n",
       " ('BsmtExposure', 3.015764222069911),\n",
       " ('BsmtFinType1', 2.878684030157642),\n",
       " ('BsmtFinSF1', 0.06854009595613435),\n",
       " ('BsmtFinType2', 2.878684030157642),\n",
       " ('BsmtFinSF2', 0.06854009595613435),\n",
       " ('BsmtUnfSF', 0.06854009595613435),\n",
       " ('TotalBsmtSF', 0.06854009595613435),\n",
       " ('BsmtFullBath', 0.1370801919122687),\n",
       " ('BsmtHalfBath', 0.1370801919122687),\n",
       " ('KitchenQual', 0.06854009595613435),\n",
       " ('Functional', 0.1370801919122687),\n",
       " ('FireplaceQu', 50.03427004797807),\n",
       " ('GarageType', 5.20904729266621),\n",
       " ('GarageYrBlt', 5.346127484578479),\n",
       " ('GarageFinish', 5.346127484578479),\n",
       " ('GarageCars', 0.06854009595613435),\n",
       " ('GarageArea', 0.06854009595613435),\n",
       " ('GarageQual', 5.346127484578479),\n",
       " ('GarageCond', 5.346127484578479),\n",
       " ('PoolQC', 99.7943797121316),\n",
       " ('Fence', 80.12337217272105),\n",
       " ('MiscFeature', 96.50445510623715),\n",
       " ('SaleType', 0.06854009595613435)]"
      ]
     },
     "execution_count": 12,
     "metadata": {},
     "output_type": "execute_result"
    }
   ],
   "source": [
    "[(x, (df_test[x].isnull().sum()/df_test.shape[0])*100) for x in test_missing ]"
   ]
  },
  {
   "cell_type": "code",
   "execution_count": 13,
   "metadata": {},
   "outputs": [],
   "source": [
    "for x in train_missing:\n",
    "    if (df_train[x].isnull().sum()/df_train.shape[0])*100>75:\n",
    "        df_train.drop(x,axis=1,inplace=True)\n",
    "        df_test.drop(x,axis=1,inplace=True)\n",
    "        \n"
   ]
  },
  {
   "cell_type": "code",
   "execution_count": 14,
   "metadata": {},
   "outputs": [
    {
     "data": {
      "text/plain": [
       "((1460, 77), (1459, 76))"
      ]
     },
     "execution_count": 14,
     "metadata": {},
     "output_type": "execute_result"
    }
   ],
   "source": [
    "df_train.shape, df_test.shape"
   ]
  },
  {
   "cell_type": "code",
   "execution_count": 15,
   "metadata": {},
   "outputs": [
    {
     "data": {
      "text/plain": [
       "[('LotFrontage', 17.73972602739726, 259),\n",
       " ('MasVnrType', 0.547945205479452, 8),\n",
       " ('MasVnrArea', 0.547945205479452, 8),\n",
       " ('BsmtQual', 2.5342465753424657, 37),\n",
       " ('BsmtCond', 2.5342465753424657, 37),\n",
       " ('BsmtExposure', 2.6027397260273974, 38),\n",
       " ('BsmtFinType1', 2.5342465753424657, 37),\n",
       " ('BsmtFinType2', 2.6027397260273974, 38),\n",
       " ('Electrical', 0.0684931506849315, 1),\n",
       " ('FireplaceQu', 47.26027397260274, 690),\n",
       " ('GarageType', 5.5479452054794525, 81),\n",
       " ('GarageYrBlt', 5.5479452054794525, 81),\n",
       " ('GarageFinish', 5.5479452054794525, 81),\n",
       " ('GarageQual', 5.5479452054794525, 81),\n",
       " ('GarageCond', 5.5479452054794525, 81)]"
      ]
     },
     "execution_count": 15,
     "metadata": {},
     "output_type": "execute_result"
    }
   ],
   "source": [
    "train_missing=[feature for feature in df_train.columns if df_train[feature].isnull().sum()>0]\n",
    "[(x, (df_train[x].isnull().sum()/df_train.shape[0])*100,df_train[x].isnull().sum())  for x in train_missing ]"
   ]
  },
  {
   "cell_type": "code",
   "execution_count": 16,
   "metadata": {},
   "outputs": [
    {
     "data": {
      "text/plain": [
       "[('MSZoning', 0.2741603838245374, 4),\n",
       " ('LotFrontage', 15.558601782042494, 227),\n",
       " ('Utilities', 0.1370801919122687, 2),\n",
       " ('Exterior1st', 0.06854009595613435, 1),\n",
       " ('Exterior2nd', 0.06854009595613435, 1),\n",
       " ('MasVnrType', 1.0966415352981496, 16),\n",
       " ('MasVnrArea', 1.0281014393420151, 15),\n",
       " ('BsmtQual', 3.015764222069911, 44),\n",
       " ('BsmtCond', 3.0843043180260454, 45),\n",
       " ('BsmtExposure', 3.015764222069911, 44),\n",
       " ('BsmtFinType1', 2.878684030157642, 42),\n",
       " ('BsmtFinSF1', 0.06854009595613435, 1),\n",
       " ('BsmtFinType2', 2.878684030157642, 42),\n",
       " ('BsmtFinSF2', 0.06854009595613435, 1),\n",
       " ('BsmtUnfSF', 0.06854009595613435, 1),\n",
       " ('TotalBsmtSF', 0.06854009595613435, 1),\n",
       " ('BsmtFullBath', 0.1370801919122687, 2),\n",
       " ('BsmtHalfBath', 0.1370801919122687, 2),\n",
       " ('KitchenQual', 0.06854009595613435, 1),\n",
       " ('Functional', 0.1370801919122687, 2),\n",
       " ('FireplaceQu', 50.03427004797807, 730),\n",
       " ('GarageType', 5.20904729266621, 76),\n",
       " ('GarageYrBlt', 5.346127484578479, 78),\n",
       " ('GarageFinish', 5.346127484578479, 78),\n",
       " ('GarageCars', 0.06854009595613435, 1),\n",
       " ('GarageArea', 0.06854009595613435, 1),\n",
       " ('GarageQual', 5.346127484578479, 78),\n",
       " ('GarageCond', 5.346127484578479, 78),\n",
       " ('SaleType', 0.06854009595613435, 1)]"
      ]
     },
     "execution_count": 16,
     "metadata": {},
     "output_type": "execute_result"
    }
   ],
   "source": [
    "test_missing=[feature for feature in df_test.columns if df_test[feature].isnull().sum()>0]\n",
    "[(x, (df_test[x].isnull().sum()/df_test.shape[0])*100,df_test[x].isnull().sum()) for x in test_missing ]"
   ]
  },
  {
   "cell_type": "markdown",
   "metadata": {},
   "source": [
    "## Categorical Variable Separation"
   ]
  },
  {
   "cell_type": "code",
   "execution_count": 17,
   "metadata": {},
   "outputs": [],
   "source": [
    "train_categorical=[feature for feature in df_train.columns if df_train[feature].dtypes==\"object\"]"
   ]
  },
  {
   "cell_type": "code",
   "execution_count": 18,
   "metadata": {},
   "outputs": [],
   "source": [
    "test_categorical=[feature for feature in df_test.columns if df_test[feature].dtypes==\"object\"]"
   ]
  },
  {
   "cell_type": "code",
   "execution_count": 19,
   "metadata": {},
   "outputs": [],
   "source": [
    "train_numerical=[feature for feature in df_train.columns if df_train[feature].dtypes!=\"object\"]\n",
    "test_numerical=[feature for feature in df_test.columns if df_test[feature].dtypes!=\"object\"]"
   ]
  },
  {
   "cell_type": "markdown",
   "metadata": {},
   "source": [
    "## Imputation of Training Data Column-Wise"
   ]
  },
  {
   "cell_type": "markdown",
   "metadata": {},
   "source": [
    "## Imputation of 'LotFrontage'"
   ]
  },
  {
   "cell_type": "code",
   "execution_count": 20,
   "metadata": {},
   "outputs": [
    {
     "name": "stdout",
     "output_type": "stream",
     "text": [
      "LotFrontage\n",
      "110\n",
      "-----------------------------------------------------------------------------------------------------\n",
      "[ 65.  80.  68.  60.  84.  85.  75.  nan  51.  50.  70.  91.  72.  66.\n",
      " 101.  57.  44. 110.  98.  47. 108. 112.  74. 115.  61.  48.  33.  52.\n",
      " 100.  24.  89.  63.  76.  81.  95.  69.  21.  32.  78. 121. 122.  40.\n",
      " 105.  73.  77.  64.  94.  34.  90.  55.  88.  82.  71. 120. 107.  92.\n",
      " 134.  62.  86. 141.  97.  54.  41.  79. 174.  99.  67.  83.  43. 103.\n",
      "  93.  30. 129. 140.  35.  37. 118.  87. 116. 150. 111.  49.  96.  59.\n",
      "  36.  56. 102.  58.  38. 109. 130.  53. 137.  45. 106. 104.  42.  39.\n",
      " 144. 114. 128. 149. 313. 168. 182. 138. 160. 152. 124. 153.  46.]\n",
      "-----------------------------------------------------------------------------------------------------\n",
      "Float64Index([ 60.0,  70.0,  80.0,  50.0,  75.0,  65.0,  85.0,  78.0,  21.0,\n",
      "               90.0,\n",
      "              ...\n",
      "              160.0, 168.0, 128.0, 144.0,  39.0, 106.0,  38.0, 138.0, 140.0,\n",
      "              137.0],\n",
      "             dtype='float64', length=110)\n",
      "-----------------------------------------------------------------------------------------------------\n",
      "[143  70  69  57  53  44  40  25  23  23  19  19  19  18  17  17  17  17\n",
      "  16  15  15  15  14  13  12  12  12  12  12  12  11  11  10  10  10  10\n",
      "  10   9   9   9   9   9   8   8   8   8   7   7   7   7   6   6   6   6\n",
      "   6   6   6   6   6   6   6   5   5   5   5   5   5   4   4   4   3   3\n",
      "   3   3   3   3   2   2   2   2   2   2   2   2   2   2   2   2   2   2\n",
      "   1   1   1   1   1   1   1   1   1   1   1   1   1   1   1   1   1   1\n",
      "   1   1]\n",
      "||||||||||||||||||||||||||||||||||||||||||||||||||||||||||||||||||||||||||||||||||||||||||||||||||||||\n"
     ]
    }
   ],
   "source": [
    "i=train_missing[0]\n",
    "print(i)\n",
    "print(df_train[i].nunique())\n",
    "print(\"-----------------------------------------------------------------------------------------------------\")\n",
    "print(df_train[i].unique())\n",
    "print(\"-----------------------------------------------------------------------------------------------------\")\n",
    "print(df_train[i].value_counts().index)\n",
    "print(\"-----------------------------------------------------------------------------------------------------\")\n",
    "print(df_train[i].value_counts().values)\n",
    "print(\"||||||||||||||||||||||||||||||||||||||||||||||||||||||||||||||||||||||||||||||||||||||||||||||||||||||\")"
   ]
  },
  {
   "cell_type": "code",
   "execution_count": 21,
   "metadata": {},
   "outputs": [
    {
     "data": {
      "text/plain": [
       "Id              -0.010601\n",
       "MSSubClass      -0.386347\n",
       "LotFrontage      1.000000\n",
       "LotArea          0.426095\n",
       "OverallQual      0.251646\n",
       "OverallCond     -0.059213\n",
       "YearBuilt        0.123349\n",
       "YearRemodAdd     0.088866\n",
       "MasVnrArea       0.193458\n",
       "BsmtFinSF1       0.233633\n",
       "BsmtFinSF2       0.049900\n",
       "BsmtUnfSF        0.132644\n",
       "TotalBsmtSF      0.392075\n",
       "1stFlrSF         0.457181\n",
       "2ndFlrSF         0.080177\n",
       "LowQualFinSF     0.038469\n",
       "GrLivArea        0.402797\n",
       "BsmtFullBath     0.100949\n",
       "BsmtHalfBath    -0.007234\n",
       "FullBath         0.198769\n",
       "HalfBath         0.053532\n",
       "BedroomAbvGr     0.263170\n",
       "KitchenAbvGr    -0.006069\n",
       "TotRmsAbvGrd     0.352096\n",
       "Fireplaces       0.266639\n",
       "GarageYrBlt      0.070250\n",
       "GarageCars       0.285691\n",
       "GarageArea       0.344997\n",
       "WoodDeckSF       0.088521\n",
       "OpenPorchSF      0.151972\n",
       "EnclosedPorch    0.010700\n",
       "3SsnPorch        0.070029\n",
       "ScreenPorch      0.041383\n",
       "PoolArea         0.206167\n",
       "MiscVal          0.003368\n",
       "MoSold           0.011200\n",
       "YrSold           0.007450\n",
       "SalePrice        0.351799\n",
       "Name: LotFrontage, dtype: float64"
      ]
     },
     "execution_count": 21,
     "metadata": {},
     "output_type": "execute_result"
    }
   ],
   "source": [
    "corelation_matrix=df_train.corr()\n",
    "corelation_LotFrontage=corelation_matrix[\"LotFrontage\"]\n",
    "corelation_LotFrontage"
   ]
  },
  {
   "cell_type": "code",
   "execution_count": 22,
   "metadata": {},
   "outputs": [
    {
     "name": "stdout",
     "output_type": "stream",
     "text": [
      "MasVnrType\n",
      "4\n",
      "-----------------------------------------------------------------------------------------------------\n",
      "['BrkFace' 'None' 'Stone' 'BrkCmn' nan]\n",
      "-----------------------------------------------------------------------------------------------------\n",
      "Index(['None', 'BrkFace', 'Stone', 'BrkCmn'], dtype='object')\n",
      "-----------------------------------------------------------------------------------------------------\n",
      "[864 445 128  15]\n",
      "||||||||||||||||||||||||||||||||||||||||||||||||||||||||||||||||||||||||||||||||||||||||||||||||||||||\n",
      "MasVnrArea\n",
      "327\n",
      "-----------------------------------------------------------------------------------------------------\n",
      "[1.960e+02 0.000e+00 1.620e+02 3.500e+02 1.860e+02 2.400e+02 2.860e+02\n",
      " 3.060e+02 2.120e+02 1.800e+02 3.800e+02 2.810e+02 6.400e+02 2.000e+02\n",
      " 2.460e+02 1.320e+02 6.500e+02 1.010e+02 4.120e+02 2.720e+02 4.560e+02\n",
      " 1.031e+03 1.780e+02 5.730e+02 3.440e+02 2.870e+02 1.670e+02 1.115e+03\n",
      " 4.000e+01 1.040e+02 5.760e+02 4.430e+02 4.680e+02 6.600e+01 2.200e+01\n",
      " 2.840e+02 7.600e+01 2.030e+02 6.800e+01 1.830e+02 4.800e+01 2.800e+01\n",
      " 3.360e+02 6.000e+02 7.680e+02 4.800e+02 2.200e+02 1.840e+02 1.129e+03\n",
      " 1.160e+02 1.350e+02 2.660e+02 8.500e+01 3.090e+02 1.360e+02 2.880e+02\n",
      " 7.000e+01 3.200e+02 5.000e+01 1.200e+02 4.360e+02 2.520e+02 8.400e+01\n",
      " 6.640e+02 2.260e+02 3.000e+02 6.530e+02 1.120e+02 4.910e+02 2.680e+02\n",
      " 7.480e+02 9.800e+01 2.750e+02 1.380e+02 2.050e+02 2.620e+02 1.280e+02\n",
      " 2.600e+02 1.530e+02 6.400e+01 3.120e+02 1.600e+01 9.220e+02 1.420e+02\n",
      " 2.900e+02 1.270e+02 5.060e+02 2.970e+02       nan 6.040e+02 2.540e+02\n",
      " 3.600e+01 1.020e+02 4.720e+02 4.810e+02 1.080e+02 3.020e+02 1.720e+02\n",
      " 3.990e+02 2.700e+02 4.600e+01 2.100e+02 1.740e+02 3.480e+02 3.150e+02\n",
      " 2.990e+02 3.400e+02 1.660e+02 7.200e+01 3.100e+01 3.400e+01 2.380e+02\n",
      " 1.600e+03 3.650e+02 5.600e+01 1.500e+02 2.780e+02 2.560e+02 2.250e+02\n",
      " 3.700e+02 3.880e+02 1.750e+02 2.960e+02 1.460e+02 1.130e+02 1.760e+02\n",
      " 6.160e+02 3.000e+01 1.060e+02 8.700e+02 3.620e+02 5.300e+02 5.000e+02\n",
      " 5.100e+02 2.470e+02 3.050e+02 2.550e+02 1.250e+02 1.000e+02 4.320e+02\n",
      " 1.260e+02 4.730e+02 7.400e+01 1.450e+02 2.320e+02 3.760e+02 4.200e+01\n",
      " 1.610e+02 1.100e+02 1.800e+01 2.240e+02 2.480e+02 8.000e+01 3.040e+02\n",
      " 2.150e+02 7.720e+02 4.350e+02 3.780e+02 5.620e+02 1.680e+02 8.900e+01\n",
      " 2.850e+02 3.600e+02 9.400e+01 3.330e+02 9.210e+02 7.620e+02 5.940e+02\n",
      " 2.190e+02 1.880e+02 4.790e+02 5.840e+02 1.820e+02 2.500e+02 2.920e+02\n",
      " 2.450e+02 2.070e+02 8.200e+01 9.700e+01 3.350e+02 2.080e+02 4.200e+02\n",
      " 1.700e+02 4.590e+02 2.800e+02 9.900e+01 1.920e+02 2.040e+02 2.330e+02\n",
      " 1.560e+02 4.520e+02 5.130e+02 2.610e+02 1.640e+02 2.590e+02 2.090e+02\n",
      " 2.630e+02 2.160e+02 3.510e+02 6.600e+02 3.810e+02 5.400e+01 5.280e+02\n",
      " 2.580e+02 4.640e+02 5.700e+01 1.470e+02 1.170e+03 2.930e+02 6.300e+02\n",
      " 4.660e+02 1.090e+02 4.100e+01 1.600e+02 2.890e+02 6.510e+02 1.690e+02\n",
      " 9.500e+01 4.420e+02 2.020e+02 3.380e+02 8.940e+02 3.280e+02 6.730e+02\n",
      " 6.030e+02 1.000e+00 3.750e+02 9.000e+01 3.800e+01 1.570e+02 1.100e+01\n",
      " 1.400e+02 1.300e+02 1.480e+02 8.600e+02 4.240e+02 1.047e+03 2.430e+02\n",
      " 8.160e+02 3.870e+02 2.230e+02 1.580e+02 1.370e+02 1.150e+02 1.890e+02\n",
      " 2.740e+02 1.170e+02 6.000e+01 1.220e+02 9.200e+01 4.150e+02 7.600e+02\n",
      " 2.700e+01 7.500e+01 3.610e+02 1.050e+02 3.420e+02 2.980e+02 5.410e+02\n",
      " 2.360e+02 1.440e+02 4.230e+02 4.400e+01 1.510e+02 9.750e+02 4.500e+02\n",
      " 2.300e+02 5.710e+02 2.400e+01 5.300e+01 2.060e+02 1.400e+01 3.240e+02\n",
      " 2.950e+02 3.960e+02 6.700e+01 1.540e+02 4.250e+02 4.500e+01 1.378e+03\n",
      " 3.370e+02 1.490e+02 1.430e+02 5.100e+01 1.710e+02 2.340e+02 6.300e+01\n",
      " 7.660e+02 3.200e+01 8.100e+01 1.630e+02 5.540e+02 2.180e+02 6.320e+02\n",
      " 1.140e+02 5.670e+02 3.590e+02 4.510e+02 6.210e+02 7.880e+02 8.600e+01\n",
      " 7.960e+02 3.910e+02 2.280e+02 8.800e+01 1.650e+02 4.280e+02 4.100e+02\n",
      " 5.640e+02 3.680e+02 3.180e+02 5.790e+02 6.500e+01 7.050e+02 4.080e+02\n",
      " 2.440e+02 1.230e+02 3.660e+02 7.310e+02 4.480e+02 2.940e+02 3.100e+02\n",
      " 2.370e+02 4.260e+02 9.600e+01 4.380e+02 1.940e+02 1.190e+02]\n",
      "-----------------------------------------------------------------------------------------------------\n",
      "Float64Index([   0.0,   72.0,  180.0,  108.0,  120.0,   16.0,   80.0,  200.0,\n",
      "               106.0,  340.0,\n",
      "              ...\n",
      "               202.0,  731.0,  167.0,  309.0, 1129.0,  651.0,  337.0,  415.0,\n",
      "               293.0,  621.0],\n",
      "             dtype='float64', length=327)\n",
      "-----------------------------------------------------------------------------------------------------\n",
      "[861   8   8   8   7   7   6   6   6   6   5   5   5   5   5   4   4   4\n",
      "   4   4   4   4   4   4   4   4   4   4   4   4   4   4   4   4   3   3\n",
      "   3   3   3   3   3   3   3   3   3   3   3   3   3   3   3   3   3   3\n",
      "   3   3   3   3   3   3   3   3   3   3   2   2   2   2   2   2   2   2\n",
      "   2   2   2   2   2   2   2   2   2   2   2   2   2   2   2   2   2   2\n",
      "   2   2   2   2   2   2   2   2   2   2   2   2   2   2   2   2   2   2\n",
      "   2   2   2   2   2   2   2   2   2   2   2   2   2   2   2   2   2   2\n",
      "   2   2   2   2   2   2   2   2   2   2   2   2   2   1   1   1   1   1\n",
      "   1   1   1   1   1   1   1   1   1   1   1   1   1   1   1   1   1   1\n",
      "   1   1   1   1   1   1   1   1   1   1   1   1   1   1   1   1   1   1\n",
      "   1   1   1   1   1   1   1   1   1   1   1   1   1   1   1   1   1   1\n",
      "   1   1   1   1   1   1   1   1   1   1   1   1   1   1   1   1   1   1\n",
      "   1   1   1   1   1   1   1   1   1   1   1   1   1   1   1   1   1   1\n",
      "   1   1   1   1   1   1   1   1   1   1   1   1   1   1   1   1   1   1\n",
      "   1   1   1   1   1   1   1   1   1   1   1   1   1   1   1   1   1   1\n",
      "   1   1   1   1   1   1   1   1   1   1   1   1   1   1   1   1   1   1\n",
      "   1   1   1   1   1   1   1   1   1   1   1   1   1   1   1   1   1   1\n",
      "   1   1   1   1   1   1   1   1   1   1   1   1   1   1   1   1   1   1\n",
      "   1   1   1]\n",
      "||||||||||||||||||||||||||||||||||||||||||||||||||||||||||||||||||||||||||||||||||||||||||||||||||||||\n"
     ]
    }
   ],
   "source": [
    "i=train_missing[1]\n",
    "print(i)\n",
    "print(df_train[i].nunique())\n",
    "print(\"-----------------------------------------------------------------------------------------------------\")\n",
    "print(df_train[i].unique())\n",
    "print(\"-----------------------------------------------------------------------------------------------------\")\n",
    "print(df_train[i].value_counts().index)\n",
    "print(\"-----------------------------------------------------------------------------------------------------\")\n",
    "print(df_train[i].value_counts().values)\n",
    "print(\"||||||||||||||||||||||||||||||||||||||||||||||||||||||||||||||||||||||||||||||||||||||||||||||||||||||\")\n",
    "\n",
    "i=train_missing[2]\n",
    "print(i)\n",
    "print(df_train[i].nunique())\n",
    "print(\"-----------------------------------------------------------------------------------------------------\")\n",
    "print(df_train[i].unique())\n",
    "print(\"-----------------------------------------------------------------------------------------------------\")\n",
    "print(df_train[i].value_counts().index)\n",
    "print(\"-----------------------------------------------------------------------------------------------------\")\n",
    "print(df_train[i].value_counts().values)\n",
    "print(\"||||||||||||||||||||||||||||||||||||||||||||||||||||||||||||||||||||||||||||||||||||||||||||||||||||||\")"
   ]
  },
  {
   "cell_type": "code",
   "execution_count": 23,
   "metadata": {},
   "outputs": [
    {
     "data": {
      "text/plain": [
       "MasVnrType\n",
       "BrkCmn     247.666667\n",
       "BrkFace    259.008989\n",
       "None         1.094907\n",
       "Stone      239.304688\n",
       "Name: MasVnrArea, dtype: float64"
      ]
     },
     "execution_count": 23,
     "metadata": {},
     "output_type": "execute_result"
    }
   ],
   "source": [
    "df_train.groupby(\"MasVnrType\").MasVnrArea.mean()"
   ]
  },
  {
   "cell_type": "code",
   "execution_count": 24,
   "metadata": {},
   "outputs": [
    {
     "name": "stderr",
     "output_type": "stream",
     "text": [
      "C:\\Users\\visha\\anaconda3\\lib\\site-packages\\seaborn\\categorical.py:3544: UserWarning: 94.9% of the points cannot be placed; you may want to decrease the size of the markers or use stripplot.\n",
      "  warnings.warn(msg, UserWarning)\n",
      "C:\\Users\\visha\\anaconda3\\lib\\site-packages\\seaborn\\categorical.py:3544: UserWarning: 96.5% of the points cannot be placed; you may want to decrease the size of the markers or use stripplot.\n",
      "  warnings.warn(msg, UserWarning)\n"
     ]
    },
    {
     "data": {
      "image/png": "[encoded data removed]",
      "text/plain": [
       "<Figure size 1600x800 with 1 Axes>"
      ]
     },
     "metadata": {},
     "output_type": "display_data"
    }
   ],
   "source": [
    "plt.figure(figsize=(16,8))\n",
    "\n",
    "sns.swarmplot(df_train,x=\"MasVnrType\",y=\"MasVnrArea\")\n",
    "plt.show()"
   ]
  },
  {
   "cell_type": "code",
   "execution_count": 25,
   "metadata": {},
   "outputs": [
    {
     "data": {
      "image/png": "[encoded data removed]",
      "text/plain": [
       "<Figure size 1600x800 with 1 Axes>"
      ]
     },
     "metadata": {},
     "output_type": "display_data"
    }
   ],
   "source": [
    "plt.figure(figsize=(16,8))\n",
    "\n",
    "sns.stripplot(df_train,x=\"MasVnrType\",y=\"MasVnrArea\")\n",
    "plt.show()"
   ]
  },
  {
   "cell_type": "markdown",
   "metadata": {},
   "source": [
    "# SimpleImputer"
   ]
  },
  {
   "cell_type": "code",
   "execution_count": 26,
   "metadata": {},
   "outputs": [],
   "source": [
    "from sklearn.impute import SimpleImputer\n",
    "si_MasVnrType=SimpleImputer(missing_values=np.nan,strategy=\"most_frequent\")\n",
    "si_MasVnrType.fit(df_train[\"MasVnrType\"].values.reshape(-1,1))\n",
    "df_train[\"MasVnrType\"]=si_MasVnrType.transform(df_train[\"MasVnrType\"].values.reshape(-1,1))\n",
    "df_test[\"MasVnrType\"]=si_MasVnrType.transform(df_test[\"MasVnrType\"].values.reshape(-1,1))"
   ]
  },
  {
   "cell_type": "code",
   "execution_count": 29,
   "metadata": {},
   "outputs": [],
   "source": [
    "df_train[\"MasVnrArea\"]=df_train[\"MasVnrArea\"].fillna(1)"
   ]
  },
  {
   "cell_type": "code",
   "execution_count": 30,
   "metadata": {},
   "outputs": [],
   "source": [
    "df_test[\"MasVnrArea\"]=df_test[\"MasVnrArea\"].fillna(1)"
   ]
  },
  {
   "cell_type": "markdown",
   "metadata": {},
   "source": [
    "# All or Any isnull()"
   ]
  },
  {
   "cell_type": "code",
   "execution_count": 31,
   "metadata": {},
   "outputs": [],
   "source": [
    "def fn_all_any(rows):\n",
    "    if rows.isnull().all():\n",
    "        return \"missing\"\n",
    "    elif rows.isnull().any():\n",
    "        return \"some missing\"\n",
    "    else:\n",
    "        return \"not_missing\"\n",
    "\n",
    "    "
   ]
  },
  {
   "cell_type": "code",
   "execution_count": 57,
   "metadata": {},
   "outputs": [
    {
     "data": {
      "text/plain": [
       "[('LotFrontage', 17.73972602739726, 259)]"
      ]
     },
     "execution_count": 57,
     "metadata": {},
     "output_type": "execute_result"
    }
   ],
   "source": [
    "train_missing=[feature for feature in df_train.columns if df_train[feature].isnull().sum()>0]\n",
    "[(x, (df_train[x].isnull().sum()/df_train.shape[0])*100,df_train[x].isnull().sum())  for x in train_missing ]"
   ]
  },
  {
   "cell_type": "code",
   "execution_count": 35,
   "metadata": {},
   "outputs": [],
   "source": [
    "df_train[['BsmtQual', 'BsmtCond', 'BsmtExposure', 'BsmtFinType1', 'BsmtFinType2']]=df_train[['BsmtQual', 'BsmtCond', 'BsmtExposure', 'BsmtFinType1', 'BsmtFinType2']].fillna(\"xyz\")"
   ]
  },
  {
   "cell_type": "code",
   "execution_count": 37,
   "metadata": {},
   "outputs": [],
   "source": [
    "df_test[['BsmtQual', 'BsmtCond', 'BsmtExposure', 'BsmtFinType1', 'BsmtFinType2']]=df_test[['BsmtQual', 'BsmtCond', 'BsmtExposure', 'BsmtFinType1', 'BsmtFinType2']].fillna(\"xyz\")"
   ]
  },
  {
   "cell_type": "code",
   "execution_count": 58,
   "metadata": {},
   "outputs": [
    {
     "data": {
      "text/plain": [
       "[('MSZoning', 0.2741603838245374, 4),\n",
       " ('LotFrontage', 15.558601782042494, 227),\n",
       " ('Utilities', 0.1370801919122687, 2),\n",
       " ('Exterior1st', 0.06854009595613435, 1),\n",
       " ('Exterior2nd', 0.06854009595613435, 1),\n",
       " ('BsmtFinSF1', 0.06854009595613435, 1),\n",
       " ('BsmtFinSF2', 0.06854009595613435, 1),\n",
       " ('BsmtUnfSF', 0.06854009595613435, 1),\n",
       " ('TotalBsmtSF', 0.06854009595613435, 1),\n",
       " ('BsmtFullBath', 0.1370801919122687, 2),\n",
       " ('BsmtHalfBath', 0.1370801919122687, 2),\n",
       " ('KitchenQual', 0.06854009595613435, 1),\n",
       " ('Functional', 0.1370801919122687, 2),\n",
       " ('GarageCars', 0.06854009595613435, 1),\n",
       " ('GarageArea', 0.06854009595613435, 1),\n",
       " ('SaleType', 0.06854009595613435, 1)]"
      ]
     },
     "execution_count": 58,
     "metadata": {},
     "output_type": "execute_result"
    }
   ],
   "source": [
    "test_missing=[feature for feature in df_test.columns if df_test[feature].isnull().sum()>0]\n",
    "[(x, (df_test[x].isnull().sum()/df_test.shape[0])*100,df_test[x].isnull().sum()) for x in test_missing ]"
   ]
  },
  {
   "cell_type": "code",
   "execution_count": 40,
   "metadata": {},
   "outputs": [
    {
     "data": {
      "text/plain": [
       "0       not_missing\n",
       "1       not_missing\n",
       "2       not_missing\n",
       "3       not_missing\n",
       "4       not_missing\n",
       "           ...     \n",
       "1455    not_missing\n",
       "1456    not_missing\n",
       "1457    not_missing\n",
       "1458    not_missing\n",
       "1459    not_missing\n",
       "Length: 1460, dtype: object"
      ]
     },
     "execution_count": 40,
     "metadata": {},
     "output_type": "execute_result"
    }
   ],
   "source": [
    "df=df_train[['GarageType','GarageYrBlt','GarageFinish','GarageQual','GarageCond']].apply(fn_all_any,axis=1)\n",
    "df"
   ]
  },
  {
   "cell_type": "code",
   "execution_count": 41,
   "metadata": {},
   "outputs": [
    {
     "data": {
      "text/plain": [
       "not_missing    1379\n",
       "missing          81\n",
       "dtype: int64"
      ]
     },
     "execution_count": 41,
     "metadata": {},
     "output_type": "execute_result"
    }
   ],
   "source": [
    "df.value_counts()"
   ]
  },
  {
   "cell_type": "code",
   "execution_count": 46,
   "metadata": {},
   "outputs": [
    {
     "name": "stdout",
     "output_type": "stream",
     "text": [
      "Index(['Attchd', 'Detchd', 'BuiltIn', 'Basment', 'CarPort', '2Types'], dtype='object')\n",
      "object .........................................\n",
      "Float64Index([2005.0, 2006.0, 2004.0, 2003.0, 2007.0, 1977.0, 1998.0, 1999.0,\n",
      "              2008.0, 1976.0, 2000.0, 2002.0, 1968.0, 1950.0, 1993.0, 2009.0,\n",
      "              1965.0, 1966.0, 1962.0, 1958.0, 2001.0, 1996.0, 1957.0, 1970.0,\n",
      "              1960.0, 1997.0, 1978.0, 1954.0, 1974.0, 1994.0, 1995.0, 1964.0,\n",
      "              1959.0, 1963.0, 1990.0, 1956.0, 1969.0, 1979.0, 1980.0, 1967.0,\n",
      "              1988.0, 1973.0, 1940.0, 1920.0, 1972.0, 1961.0, 1971.0, 1955.0,\n",
      "              1992.0, 1953.0, 1987.0, 1948.0, 1985.0, 1981.0, 1941.0, 1925.0,\n",
      "              1989.0, 1975.0, 1991.0, 1939.0, 1984.0, 1949.0, 1930.0, 1983.0,\n",
      "              1986.0, 1951.0, 1926.0, 1922.0, 1936.0, 1916.0, 1931.0, 1945.0,\n",
      "              1935.0, 1928.0, 1946.0, 1982.0, 1938.0, 1921.0, 1924.0, 1910.0,\n",
      "              1952.0, 1932.0, 2010.0, 1923.0, 1937.0, 1934.0, 1918.0, 1947.0,\n",
      "              1929.0, 1914.0, 1915.0, 1942.0, 1908.0, 1927.0, 1933.0, 1900.0,\n",
      "              1906.0],\n",
      "             dtype='float64')\n",
      "float64 .........................................\n",
      "Index(['Unf', 'RFn', 'Fin'], dtype='object')\n",
      "object .........................................\n",
      "Index(['TA', 'Fa', 'Gd', 'Ex', 'Po'], dtype='object')\n",
      "object .........................................\n",
      "Index(['TA', 'Fa', 'Gd', 'Po', 'Ex'], dtype='object')\n",
      "object .........................................\n"
     ]
    }
   ],
   "source": [
    "for i in ['GarageType','GarageYrBlt','GarageFinish','GarageQual','GarageCond']:\n",
    "    print(df_train[i].value_counts().index)\n",
    "    print(df_train[i].dtypes,\".........................................\")"
   ]
  },
  {
   "cell_type": "code",
   "execution_count": 47,
   "metadata": {},
   "outputs": [],
   "source": [
    "df_train[['GarageType','GarageFinish','GarageQual','GarageCond']]=df_train[['GarageType','GarageFinish','GarageQual','GarageCond']].fillna(\"abc\")"
   ]
  },
  {
   "cell_type": "code",
   "execution_count": 48,
   "metadata": {},
   "outputs": [],
   "source": [
    "df_test[['GarageType','GarageFinish','GarageQual','GarageCond']]=df_test[['GarageType','GarageFinish','GarageQual','GarageCond']].fillna(\"abc\")"
   ]
  },
  {
   "cell_type": "code",
   "execution_count": 49,
   "metadata": {},
   "outputs": [],
   "source": [
    "df_train['GarageYrBlt']=df_train['GarageYrBlt'].fillna(1901.0)\n",
    "df_test['GarageYrBlt']=df_test['GarageYrBlt'].fillna(1901.0)"
   ]
  },
  {
   "cell_type": "code",
   "execution_count": 52,
   "metadata": {},
   "outputs": [
    {
     "name": "stdout",
     "output_type": "stream",
     "text": [
      "Electrical\n",
      "5\n",
      "-----------------------------------------------------------------------------------------------------\n",
      "['SBrkr' 'FuseF' 'FuseA' 'FuseP' 'Mix' nan]\n",
      "-----------------------------------------------------------------------------------------------------\n",
      "Index(['SBrkr', 'FuseA', 'FuseF', 'FuseP', 'Mix'], dtype='object')\n",
      "-----------------------------------------------------------------------------------------------------\n",
      "[1334   94   27    3    1]\n"
     ]
    }
   ],
   "source": [
    "i=\"Electrical\"\n",
    "print(i)\n",
    "print(df_train[i].nunique())\n",
    "print(\"-----------------------------------------------------------------------------------------------------\")\n",
    "print(df_train[i].unique())\n",
    "print(\"-----------------------------------------------------------------------------------------------------\")\n",
    "print(df_train[i].value_counts().index)\n",
    "print(\"-----------------------------------------------------------------------------------------------------\")\n",
    "print(df_train[i].value_counts().values)"
   ]
  },
  {
   "cell_type": "code",
   "execution_count": 53,
   "metadata": {},
   "outputs": [],
   "source": [
    "df_train[\"Electrical\"]=df_train[\"Electrical\"].fillna('SBrkr')\n",
    "df_test[\"Electrical\"]=df_test[\"Electrical\"].fillna('SBrkr')"
   ]
  },
  {
   "cell_type": "code",
   "execution_count": 56,
   "metadata": {},
   "outputs": [],
   "source": [
    "df_train.drop(\"FireplaceQu\",axis=1, inplace=True)\n",
    "df_test.drop(\"FireplaceQu\",axis=1, inplace=True)"
   ]
  },
  {
   "cell_type": "code",
   "execution_count": 60,
   "metadata": {},
   "outputs": [
    {
     "name": "stdout",
     "output_type": "stream",
     "text": [
      "Id              -0.010601\n",
      "MSSubClass      -0.386347\n",
      "LotFrontage      1.000000\n",
      "LotArea          0.426095\n",
      "OverallQual      0.251646\n",
      "OverallCond     -0.059213\n",
      "YearBuilt        0.123349\n",
      "YearRemodAdd     0.088866\n",
      "MasVnrArea       0.192418\n",
      "BsmtFinSF1       0.233633\n",
      "BsmtFinSF2       0.049900\n",
      "BsmtUnfSF        0.132644\n",
      "TotalBsmtSF      0.392075\n",
      "1stFlrSF         0.457181\n",
      "2ndFlrSF         0.080177\n",
      "LowQualFinSF     0.038469\n",
      "GrLivArea        0.402797\n",
      "BsmtFullBath     0.100949\n",
      "BsmtHalfBath    -0.007234\n",
      "FullBath         0.198769\n",
      "HalfBath         0.053532\n",
      "BedroomAbvGr     0.263170\n",
      "KitchenAbvGr    -0.006069\n",
      "TotRmsAbvGrd     0.352096\n",
      "Fireplaces       0.266639\n",
      "GarageYrBlt      0.115356\n",
      "GarageCars       0.285691\n",
      "GarageArea       0.344997\n",
      "WoodDeckSF       0.088521\n",
      "OpenPorchSF      0.151972\n",
      "EnclosedPorch    0.010700\n",
      "3SsnPorch        0.070029\n",
      "ScreenPorch      0.041383\n",
      "PoolArea         0.206167\n",
      "MiscVal          0.003368\n",
      "MoSold           0.011200\n",
      "YrSold           0.007450\n",
      "SalePrice        0.351799\n",
      "Name: LotFrontage, dtype: float64\n"
     ]
    }
   ],
   "source": [
    "cor=df_train.corr()\n",
    "cor1=cor['LotFrontage']\n",
    "print(cor1)"
   ]
  },
  {
   "cell_type": "code",
   "execution_count": null,
   "metadata": {},
   "outputs": [],
   "source": [
    "df_grp=df_train.groupby([[\"LotArea\",S]])"
   ]
  }
 ],
 "metadata": {
  "kernelspec": {
   "display_name": "Python 3",
   "language": "python",
   "name": "python3"
  },
  "language_info": {
   "codemirror_mode": {
    "name": "ipython",
    "version": 3
   },
   "file_extension": ".py",
   "mimetype": "text/x-python",
   "name": "python",
   "nbconvert_exporter": "python",
   "pygments_lexer": "ipython3",
   "version": "3.8.5"
  }
 },
 "nbformat": 4,
 "nbformat_minor": 4
}
